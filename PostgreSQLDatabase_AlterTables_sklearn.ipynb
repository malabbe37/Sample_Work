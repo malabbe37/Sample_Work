{
 "cells": [
  {
   "cell_type": "markdown",
   "id": "2266cbe5",
   "metadata": {},
   "source": [
    "**Michael Labbe** <br>\n",
    "**06/15/2023** <br>\n",
    "**Homework 4**"
   ]
  },
  {
   "cell_type": "markdown",
   "id": "d58e21e4",
   "metadata": {},
   "source": [
    "**1. Import the necessary libraries and set up your workbook to connect to your NetId schema (5 pts).** <br>"
   ]
  },
  {
   "cell_type": "code",
   "execution_count": 2,
   "id": "732cfac0",
   "metadata": {},
   "outputs": [
    {
     "name": "stdout",
     "output_type": "stream",
     "text": [
      "Username (NetID):mlabbe\n",
      "Host:postgres-database.chlsqnrqiao3.us-east-1.rds.amazonaws.com\n",
      "Password:········\n"
     ]
    }
   ],
   "source": [
    "# The getpass library will prompt the user for a password without echoing.\n",
    "#  * You will need to install the getpass module if this is the first time you have used it.\n",
    "import getpass\n",
    "\n",
    "# Define PostgreSQL database connection parameters\n",
    "user = input(\"Username (NetID):\")\n",
    "host = input(\"Host:\") #\"postgres-database.chlsqnrqiao3.us-east-1.rds.amazonaws.com\"\n",
    "dbname = \"imdb\"\n",
    "port = \"5432\"\n",
    "\n",
    "password = getpass.getpass(\"Password:\") # Get pass will prompt the user for a password without echoing."
   ]
  },
  {
   "cell_type": "markdown",
   "id": "07ce18d1",
   "metadata": {},
   "source": [
    "**2. Extract the movie_box_office_results.csv file into a Pandas data frame, then load that data into a table called movie_box_office_results in your NetID's schema.** <br>"
   ]
  },
  {
   "cell_type": "code",
   "execution_count": 3,
   "id": "ede15abb",
   "metadata": {},
   "outputs": [],
   "source": [
    "import pandas as pd\n",
    "\n",
    "#Connect to the database\n",
    "db_URI = f\"postgresql+psycopg2://{user}:{password}@{host}:{port}/{dbname}\" \n",
    "\n",
    "#Read in the data\n",
    "df = pd.read_csv(r'C:/Users/malab/OneDrive/Documents/Notre Dame/Databases & Security/Datasets/movie_boxoffice_results.csv') "
   ]
  },
  {
   "cell_type": "code",
   "execution_count": 4,
   "id": "40eaaca7",
   "metadata": {},
   "outputs": [
    {
     "data": {
      "text/html": [
       "<div>\n",
       "<style scoped>\n",
       "    .dataframe tbody tr th:only-of-type {\n",
       "        vertical-align: middle;\n",
       "    }\n",
       "\n",
       "    .dataframe tbody tr th {\n",
       "        vertical-align: top;\n",
       "    }\n",
       "\n",
       "    .dataframe thead th {\n",
       "        text-align: right;\n",
       "    }\n",
       "</style>\n",
       "<table border=\"1\" class=\"dataframe\">\n",
       "  <thead>\n",
       "    <tr style=\"text-align: right;\">\n",
       "      <th></th>\n",
       "      <th>film</th>\n",
       "      <th>year</th>\n",
       "      <th>rotten_tomatoes_pct_critics</th>\n",
       "      <th>rotten_tomatoes_audience_pct</th>\n",
       "      <th>script_type</th>\n",
       "      <th>opening_weekend</th>\n",
       "      <th>domestic_gross</th>\n",
       "      <th>foreign_gross</th>\n",
       "      <th>worldwide_gross</th>\n",
       "      <th>budget_in_million</th>\n",
       "      <th>oscar_winners</th>\n",
       "    </tr>\n",
       "  </thead>\n",
       "  <tbody>\n",
       "    <tr>\n",
       "      <th>0</th>\n",
       "      <td>7 Days in Entebbe</td>\n",
       "      <td>2018</td>\n",
       "      <td>26.0</td>\n",
       "      <td>39.0</td>\n",
       "      <td>based on a true story</td>\n",
       "      <td>1592645</td>\n",
       "      <td>3189220</td>\n",
       "      <td>5465548</td>\n",
       "      <td>8654768</td>\n",
       "      <td>NaN</td>\n",
       "      <td>None</td>\n",
       "    </tr>\n",
       "    <tr>\n",
       "      <th>1</th>\n",
       "      <td>A Simple Favor</td>\n",
       "      <td>2018</td>\n",
       "      <td>85.0</td>\n",
       "      <td>77.0</td>\n",
       "      <td>adaptation</td>\n",
       "      <td>16011689</td>\n",
       "      <td>53548586</td>\n",
       "      <td>41285014</td>\n",
       "      <td>94833600</td>\n",
       "      <td>20.0</td>\n",
       "      <td>None</td>\n",
       "    </tr>\n",
       "    <tr>\n",
       "      <th>2</th>\n",
       "      <td>Aquaman</td>\n",
       "      <td>2018</td>\n",
       "      <td>65.0</td>\n",
       "      <td>80.0</td>\n",
       "      <td>adaptation</td>\n",
       "      <td>67873522</td>\n",
       "      <td>259720880</td>\n",
       "      <td>681000000</td>\n",
       "      <td>940720880</td>\n",
       "      <td>160.0</td>\n",
       "      <td>None</td>\n",
       "    </tr>\n",
       "    <tr>\n",
       "      <th>3</th>\n",
       "      <td>Bad Samaritan</td>\n",
       "      <td>2018</td>\n",
       "      <td>54.0</td>\n",
       "      <td>73.0</td>\n",
       "      <td>original screenplay</td>\n",
       "      <td>1726868</td>\n",
       "      <td>3424744</td>\n",
       "      <td>0</td>\n",
       "      <td>3424744</td>\n",
       "      <td>NaN</td>\n",
       "      <td>None</td>\n",
       "    </tr>\n",
       "    <tr>\n",
       "      <th>4</th>\n",
       "      <td>Beatriz At Dinner</td>\n",
       "      <td>2017</td>\n",
       "      <td>75.0</td>\n",
       "      <td>56.0</td>\n",
       "      <td>original screenplay</td>\n",
       "      <td>141959</td>\n",
       "      <td>7115854</td>\n",
       "      <td>0</td>\n",
       "      <td>7115854</td>\n",
       "      <td>NaN</td>\n",
       "      <td>None</td>\n",
       "    </tr>\n",
       "  </tbody>\n",
       "</table>\n",
       "</div>"
      ],
      "text/plain": [
       "                film  year  rotten_tomatoes_pct_critics   \n",
       "0  7 Days in Entebbe  2018                         26.0  \\\n",
       "1     A Simple Favor  2018                         85.0   \n",
       "2           Aquaman   2018                         65.0   \n",
       "3      Bad Samaritan  2018                         54.0   \n",
       "4  Beatriz At Dinner  2017                         75.0   \n",
       "\n",
       "   rotten_tomatoes_audience_pct            script_type  opening_weekend   \n",
       "0                          39.0  based on a true story          1592645  \\\n",
       "1                          77.0             adaptation         16011689   \n",
       "2                          80.0             adaptation         67873522   \n",
       "3                          73.0    original screenplay          1726868   \n",
       "4                          56.0    original screenplay           141959   \n",
       "\n",
       "   domestic_gross  foreign_gross  worldwide_gross  budget_in_million   \n",
       "0         3189220        5465548          8654768                NaN  \\\n",
       "1        53548586       41285014         94833600               20.0   \n",
       "2       259720880      681000000        940720880              160.0   \n",
       "3         3424744              0          3424744                NaN   \n",
       "4         7115854              0          7115854                NaN   \n",
       "\n",
       "  oscar_winners  \n",
       "0          None  \n",
       "1          None  \n",
       "2          None  \n",
       "3          None  \n",
       "4          None  "
      ]
     },
     "execution_count": 4,
     "metadata": {},
     "output_type": "execute_result"
    }
   ],
   "source": [
    "#Load the data into table within schema\n",
    "df.to_sql('movie_box_office_results', con=db_URI, schema=user, if_exists='replace', index=False, method='multi') \n",
    "\n",
    "#Show the first 5 values in table\n",
    "pd.read_sql(\"\"\"select * from movie_box_office_results limit 5\"\"\", db_URI) "
   ]
  },
  {
   "cell_type": "markdown",
   "id": "bb0f2034",
   "metadata": {},
   "source": [
    "**3. Based on the table movie_box_office_results and data in the IMDb schema, design a table called title_financials integrated with IMDb database.** <br>"
   ]
  },
  {
   "cell_type": "markdown",
   "id": "80123093",
   "metadata": {},
   "source": [
    "** Answer: My table for title_financials will be connected to the IMDB database through the title_basics table, utilizing tconst as the primary key. The following columns in movie_box_office_results will apply in our new title_financials table: opening_weekend, domestic_gross, foreign_gross, worldwide_gross, and budget_in_millions. My constraints for this table would include a constraint on all of the aforementioned columns that does not allow any values less than 0. ** <br>"
   ]
  },
  {
   "cell_type": "markdown",
   "id": "f9c62896",
   "metadata": {},
   "source": [
    "**4. Create and load title_financials table into \"mlabbe\" schema. Transform and combine the data from my movie_box_office_results and any necessary IMDb tables. <br>**"
   ]
  },
  {
   "cell_type": "code",
   "execution_count": 5,
   "id": "91c41a8b",
   "metadata": {},
   "outputs": [],
   "source": [
    "import psycopg2  # Python database adapter for PostgreSQL database\n",
    "\n",
    "def execute_sql(sql, echo=True):\n",
    "    try:\n",
    "        pg_conn = psycopg2.connect(\n",
    "            dbname=dbname,\n",
    "            user=user,\n",
    "            password=password,\n",
    "            host=host,\n",
    "            port=port\n",
    "        )\n",
    "    except psycopg2.Error as e:\n",
    "        error_message = e.pgerror\n",
    "        print(\"Error Connecting:\", error_message)\n",
    "\n",
    "    # Set the connection to autocommit (everything is treated as an individual transaction)\n",
    "    pg_conn.set_session(autocommit=True)\n",
    "    \n",
    "    # The cursor is used to execute our ddl statements.\n",
    "    pg_cursor = pg_conn.cursor() \n",
    "    \n",
    "    try:\n",
    "        pg_cursor.execute(sql)\n",
    "        if echo:\n",
    "            print(sql)\n",
    "    except psycopg2.Error as e:\n",
    "        error_message = e.pgerror\n",
    "        print(\"SQL Failed:\", error_message)\n",
    "    \n",
    "    pg_conn.close()\n"
   ]
  },
  {
   "cell_type": "code",
   "execution_count": 6,
   "id": "3b032183",
   "metadata": {},
   "outputs": [],
   "source": [
    "sql = \"\"\"SELECT TITLE_BASICS.TCONST,\n",
    "    TITLE_BASICS.PRIMARYTITLE,\n",
    "    TITLE_BASICS.STARTYEAR,\n",
    "    MOVIE_BOX_OFFICE_RESULTS.OPENING_WEEKEND, \n",
    "    MOVIE_BOX_OFFICE_RESULTS.DOMESTIC_GROSS, \n",
    "    MOVIE_BOX_OFFICE_RESULTS.FOREIGN_GROSS, \n",
    "    MOVIE_BOX_OFFICE_RESULTS.WORLDWIDE_GROSS, \n",
    "    MOVIE_BOX_OFFICE_RESULTS.BUDGET_IN_MILLION \n",
    "    FROM IMDB.TITLE_BASICS \n",
    "    LEFT JOIN MLABBE.TITLE_FINANCIALS ON TITLE_FINANCIALS.TCONST = TITLE_BASICS.TCONST \n",
    "    LEFT JOIN MLABBE.MOVIE_BOX_OFFICE_RESULTS ON MOVIE_BOX_OFFICE_RESULTS.FILM = TITLE_BASICS.PRIMARYTITLE \n",
    "    WHERE TITLETYPE = 'movie'\"\"\" \n",
    "\n",
    "movie_financials = pd.read_sql(sql, db_URI)"
   ]
  },
  {
   "cell_type": "code",
   "execution_count": 7,
   "id": "c9840d51",
   "metadata": {},
   "outputs": [
    {
     "data": {
      "text/plain": [
       "631938"
      ]
     },
     "execution_count": 7,
     "metadata": {},
     "output_type": "execute_result"
    }
   ],
   "source": [
    "movie_financials.rename(columns = {'primarytitle':'film'}, inplace = True)\n",
    "\n",
    "movie_financials.to_sql(\"movie_financials\", con=db_URI, index=False, method='multi', if_exists='replace')\n",
    "\n",
    "# pd.read_sql(\"\"\"select * from MOVIE_BOX_OFFICE_RESULTS\"\"\", db_URI)"
   ]
  },
  {
   "cell_type": "code",
   "execution_count": 8,
   "id": "a65f2a77",
   "metadata": {},
   "outputs": [],
   "source": [
    "# movie_financials"
   ]
  },
  {
   "cell_type": "code",
   "execution_count": 9,
   "id": "41901ea1",
   "metadata": {},
   "outputs": [],
   "source": [
    "sql = \"\"\"SELECT distinct movie_financials.tconst,\n",
    "    MOVIE_financials.film,\n",
    "    MOVIE_BOX_OFFICE_RESULTS.OPENING_WEEKEND, \n",
    "    MOVIE_BOX_OFFICE_RESULTS.DOMESTIC_GROSS, \n",
    "    MOVIE_BOX_OFFICE_RESULTS.FOREIGN_GROSS, \n",
    "    MOVIE_BOX_OFFICE_RESULTS.WORLDWIDE_GROSS, \n",
    "    MOVIE_BOX_OFFICE_RESULTS.BUDGET_IN_MILLION \n",
    "    FROM mlabbe.movie_financials \n",
    "    INNER JOIN MLABBE.MOVIE_BOX_OFFICE_RESULTS ON MOVIE_BOX_OFFICE_RESULTS.film = movie_financials.film\n",
    "    WHERE MOVIE_BOX_OFFICE_RESULTS.YEAR = MOVIE_FINANCIALS.STARTYEAR\"\"\" \n",
    "\n",
    "title_financials = pd.read_sql(sql, db_URI)"
   ]
  },
  {
   "cell_type": "code",
   "execution_count": 10,
   "id": "17c185e3",
   "metadata": {},
   "outputs": [
    {
     "ename": "InternalError",
     "evalue": "(psycopg2.errors.DependentObjectsStillExist) cannot drop table title_financials because other objects depend on it\nDETAIL:  view financial_features depends on table title_financials\nHINT:  Use DROP ... CASCADE to drop the dependent objects too.\n\n[SQL: \nDROP TABLE title_financials]\n(Background on this error at: https://sqlalche.me/e/20/2j85)",
     "output_type": "error",
     "traceback": [
      "\u001b[1;31m---------------------------------------------------------------------------\u001b[0m",
      "\u001b[1;31mDependentObjectsStillExist\u001b[0m                Traceback (most recent call last)",
      "File \u001b[1;32m~\\AppData\\Local\\Programs\\Python\\Python310\\lib\\site-packages\\sqlalchemy\\engine\\base.py:1968\u001b[0m, in \u001b[0;36mConnection._exec_single_context\u001b[1;34m(self, dialect, context, statement, parameters)\u001b[0m\n\u001b[0;32m   1967\u001b[0m     \u001b[38;5;28;01mif\u001b[39;00m \u001b[38;5;129;01mnot\u001b[39;00m evt_handled:\n\u001b[1;32m-> 1968\u001b[0m         \u001b[38;5;28;43mself\u001b[39;49m\u001b[38;5;241;43m.\u001b[39;49m\u001b[43mdialect\u001b[49m\u001b[38;5;241;43m.\u001b[39;49m\u001b[43mdo_execute\u001b[49m\u001b[43m(\u001b[49m\n\u001b[0;32m   1969\u001b[0m \u001b[43m            \u001b[49m\u001b[43mcursor\u001b[49m\u001b[43m,\u001b[49m\u001b[43m \u001b[49m\u001b[43mstr_statement\u001b[49m\u001b[43m,\u001b[49m\u001b[43m \u001b[49m\u001b[43meffective_parameters\u001b[49m\u001b[43m,\u001b[49m\u001b[43m \u001b[49m\u001b[43mcontext\u001b[49m\n\u001b[0;32m   1970\u001b[0m \u001b[43m        \u001b[49m\u001b[43m)\u001b[49m\n\u001b[0;32m   1972\u001b[0m \u001b[38;5;28;01mif\u001b[39;00m \u001b[38;5;28mself\u001b[39m\u001b[38;5;241m.\u001b[39m_has_events \u001b[38;5;129;01mor\u001b[39;00m \u001b[38;5;28mself\u001b[39m\u001b[38;5;241m.\u001b[39mengine\u001b[38;5;241m.\u001b[39m_has_events:\n",
      "File \u001b[1;32m~\\AppData\\Local\\Programs\\Python\\Python310\\lib\\site-packages\\sqlalchemy\\engine\\default.py:920\u001b[0m, in \u001b[0;36mDefaultDialect.do_execute\u001b[1;34m(self, cursor, statement, parameters, context)\u001b[0m\n\u001b[0;32m    919\u001b[0m \u001b[38;5;28;01mdef\u001b[39;00m \u001b[38;5;21mdo_execute\u001b[39m(\u001b[38;5;28mself\u001b[39m, cursor, statement, parameters, context\u001b[38;5;241m=\u001b[39m\u001b[38;5;28;01mNone\u001b[39;00m):\n\u001b[1;32m--> 920\u001b[0m     \u001b[43mcursor\u001b[49m\u001b[38;5;241;43m.\u001b[39;49m\u001b[43mexecute\u001b[49m\u001b[43m(\u001b[49m\u001b[43mstatement\u001b[49m\u001b[43m,\u001b[49m\u001b[43m \u001b[49m\u001b[43mparameters\u001b[49m\u001b[43m)\u001b[49m\n",
      "\u001b[1;31mDependentObjectsStillExist\u001b[0m: cannot drop table title_financials because other objects depend on it\nDETAIL:  view financial_features depends on table title_financials\nHINT:  Use DROP ... CASCADE to drop the dependent objects too.\n",
      "\nThe above exception was the direct cause of the following exception:\n",
      "\u001b[1;31mInternalError\u001b[0m                             Traceback (most recent call last)",
      "Cell \u001b[1;32mIn [10], line 2\u001b[0m\n\u001b[0;32m      1\u001b[0m \u001b[38;5;66;03m#title_financials\u001b[39;00m\n\u001b[1;32m----> 2\u001b[0m \u001b[43mtitle_financials\u001b[49m\u001b[38;5;241;43m.\u001b[39;49m\u001b[43mto_sql\u001b[49m\u001b[43m(\u001b[49m\u001b[38;5;124;43m\"\u001b[39;49m\u001b[38;5;124;43mtitle_financials\u001b[39;49m\u001b[38;5;124;43m\"\u001b[39;49m\u001b[43m,\u001b[49m\u001b[43m \u001b[49m\u001b[43mcon\u001b[49m\u001b[38;5;241;43m=\u001b[39;49m\u001b[43mdb_URI\u001b[49m\u001b[43m,\u001b[49m\u001b[43m \u001b[49m\u001b[43mindex\u001b[49m\u001b[38;5;241;43m=\u001b[39;49m\u001b[38;5;28;43;01mFalse\u001b[39;49;00m\u001b[43m,\u001b[49m\u001b[43m \u001b[49m\u001b[43mmethod\u001b[49m\u001b[38;5;241;43m=\u001b[39;49m\u001b[38;5;124;43m'\u001b[39;49m\u001b[38;5;124;43mmulti\u001b[39;49m\u001b[38;5;124;43m'\u001b[39;49m\u001b[43m,\u001b[49m\u001b[43m \u001b[49m\u001b[43mif_exists\u001b[49m\u001b[38;5;241;43m=\u001b[39;49m\u001b[38;5;124;43m'\u001b[39;49m\u001b[38;5;124;43mreplace\u001b[39;49m\u001b[38;5;124;43m'\u001b[39;49m\u001b[43m)\u001b[49m\n",
      "File \u001b[1;32m~\\AppData\\Local\\Programs\\Python\\Python310\\lib\\site-packages\\pandas\\core\\generic.py:2878\u001b[0m, in \u001b[0;36mNDFrame.to_sql\u001b[1;34m(self, name, con, schema, if_exists, index, index_label, chunksize, dtype, method)\u001b[0m\n\u001b[0;32m   2713\u001b[0m \u001b[38;5;124;03m\"\"\"\u001b[39;00m\n\u001b[0;32m   2714\u001b[0m \u001b[38;5;124;03mWrite records stored in a DataFrame to a SQL database.\u001b[39;00m\n\u001b[0;32m   2715\u001b[0m \n\u001b[1;32m   (...)\u001b[0m\n\u001b[0;32m   2874\u001b[0m \u001b[38;5;124;03m[(1,), (None,), (2,)]\u001b[39;00m\n\u001b[0;32m   2875\u001b[0m \u001b[38;5;124;03m\"\"\"\u001b[39;00m  \u001b[38;5;66;03m# noqa:E501\u001b[39;00m\n\u001b[0;32m   2876\u001b[0m \u001b[38;5;28;01mfrom\u001b[39;00m \u001b[38;5;21;01mpandas\u001b[39;00m\u001b[38;5;21;01m.\u001b[39;00m\u001b[38;5;21;01mio\u001b[39;00m \u001b[38;5;28;01mimport\u001b[39;00m sql\n\u001b[1;32m-> 2878\u001b[0m \u001b[38;5;28;01mreturn\u001b[39;00m \u001b[43msql\u001b[49m\u001b[38;5;241;43m.\u001b[39;49m\u001b[43mto_sql\u001b[49m\u001b[43m(\u001b[49m\n\u001b[0;32m   2879\u001b[0m \u001b[43m    \u001b[49m\u001b[38;5;28;43mself\u001b[39;49m\u001b[43m,\u001b[49m\n\u001b[0;32m   2880\u001b[0m \u001b[43m    \u001b[49m\u001b[43mname\u001b[49m\u001b[43m,\u001b[49m\n\u001b[0;32m   2881\u001b[0m \u001b[43m    \u001b[49m\u001b[43mcon\u001b[49m\u001b[43m,\u001b[49m\n\u001b[0;32m   2882\u001b[0m \u001b[43m    \u001b[49m\u001b[43mschema\u001b[49m\u001b[38;5;241;43m=\u001b[39;49m\u001b[43mschema\u001b[49m\u001b[43m,\u001b[49m\n\u001b[0;32m   2883\u001b[0m \u001b[43m    \u001b[49m\u001b[43mif_exists\u001b[49m\u001b[38;5;241;43m=\u001b[39;49m\u001b[43mif_exists\u001b[49m\u001b[43m,\u001b[49m\n\u001b[0;32m   2884\u001b[0m \u001b[43m    \u001b[49m\u001b[43mindex\u001b[49m\u001b[38;5;241;43m=\u001b[39;49m\u001b[43mindex\u001b[49m\u001b[43m,\u001b[49m\n\u001b[0;32m   2885\u001b[0m \u001b[43m    \u001b[49m\u001b[43mindex_label\u001b[49m\u001b[38;5;241;43m=\u001b[39;49m\u001b[43mindex_label\u001b[49m\u001b[43m,\u001b[49m\n\u001b[0;32m   2886\u001b[0m \u001b[43m    \u001b[49m\u001b[43mchunksize\u001b[49m\u001b[38;5;241;43m=\u001b[39;49m\u001b[43mchunksize\u001b[49m\u001b[43m,\u001b[49m\n\u001b[0;32m   2887\u001b[0m \u001b[43m    \u001b[49m\u001b[43mdtype\u001b[49m\u001b[38;5;241;43m=\u001b[39;49m\u001b[43mdtype\u001b[49m\u001b[43m,\u001b[49m\n\u001b[0;32m   2888\u001b[0m \u001b[43m    \u001b[49m\u001b[43mmethod\u001b[49m\u001b[38;5;241;43m=\u001b[39;49m\u001b[43mmethod\u001b[49m\u001b[43m,\u001b[49m\n\u001b[0;32m   2889\u001b[0m \u001b[43m\u001b[49m\u001b[43m)\u001b[49m\n",
      "File \u001b[1;32m~\\AppData\\Local\\Programs\\Python\\Python310\\lib\\site-packages\\pandas\\io\\sql.py:767\u001b[0m, in \u001b[0;36mto_sql\u001b[1;34m(frame, name, con, schema, if_exists, index, index_label, chunksize, dtype, method, engine, **engine_kwargs)\u001b[0m\n\u001b[0;32m    762\u001b[0m     \u001b[38;5;28;01mraise\u001b[39;00m \u001b[38;5;167;01mNotImplementedError\u001b[39;00m(\n\u001b[0;32m    763\u001b[0m         \u001b[38;5;124m\"\u001b[39m\u001b[38;5;124m'\u001b[39m\u001b[38;5;124mframe\u001b[39m\u001b[38;5;124m'\u001b[39m\u001b[38;5;124m argument should be either a Series or a DataFrame\u001b[39m\u001b[38;5;124m\"\u001b[39m\n\u001b[0;32m    764\u001b[0m     )\n\u001b[0;32m    766\u001b[0m \u001b[38;5;28;01mwith\u001b[39;00m pandasSQL_builder(con, schema\u001b[38;5;241m=\u001b[39mschema, need_transaction\u001b[38;5;241m=\u001b[39m\u001b[38;5;28;01mTrue\u001b[39;00m) \u001b[38;5;28;01mas\u001b[39;00m pandas_sql:\n\u001b[1;32m--> 767\u001b[0m     \u001b[38;5;28;01mreturn\u001b[39;00m pandas_sql\u001b[38;5;241m.\u001b[39mto_sql(\n\u001b[0;32m    768\u001b[0m         frame,\n\u001b[0;32m    769\u001b[0m         name,\n\u001b[0;32m    770\u001b[0m         if_exists\u001b[38;5;241m=\u001b[39mif_exists,\n\u001b[0;32m    771\u001b[0m         index\u001b[38;5;241m=\u001b[39mindex,\n\u001b[0;32m    772\u001b[0m         index_label\u001b[38;5;241m=\u001b[39mindex_label,\n\u001b[0;32m    773\u001b[0m         schema\u001b[38;5;241m=\u001b[39mschema,\n\u001b[0;32m    774\u001b[0m         chunksize\u001b[38;5;241m=\u001b[39mchunksize,\n\u001b[0;32m    775\u001b[0m         dtype\u001b[38;5;241m=\u001b[39mdtype,\n\u001b[0;32m    776\u001b[0m         method\u001b[38;5;241m=\u001b[39mmethod,\n\u001b[0;32m    777\u001b[0m         engine\u001b[38;5;241m=\u001b[39mengine,\n\u001b[0;32m    778\u001b[0m         \u001b[38;5;241m*\u001b[39m\u001b[38;5;241m*\u001b[39mengine_kwargs,\n\u001b[0;32m    779\u001b[0m     )\n",
      "File \u001b[1;32m~\\AppData\\Local\\Programs\\Python\\Python310\\lib\\site-packages\\pandas\\io\\sql.py:1908\u001b[0m, in \u001b[0;36mSQLDatabase.to_sql\u001b[1;34m(self, frame, name, if_exists, index, index_label, schema, chunksize, dtype, method, engine, **engine_kwargs)\u001b[0m\n\u001b[0;32m   1858\u001b[0m \u001b[38;5;124;03m\"\"\"\u001b[39;00m\n\u001b[0;32m   1859\u001b[0m \u001b[38;5;124;03mWrite records stored in a DataFrame to a SQL database.\u001b[39;00m\n\u001b[0;32m   1860\u001b[0m \n\u001b[1;32m   (...)\u001b[0m\n\u001b[0;32m   1904\u001b[0m \u001b[38;5;124;03m    Any additional kwargs are passed to the engine.\u001b[39;00m\n\u001b[0;32m   1905\u001b[0m \u001b[38;5;124;03m\"\"\"\u001b[39;00m\n\u001b[0;32m   1906\u001b[0m sql_engine \u001b[38;5;241m=\u001b[39m get_engine(engine)\n\u001b[1;32m-> 1908\u001b[0m table \u001b[38;5;241m=\u001b[39m \u001b[38;5;28;43mself\u001b[39;49m\u001b[38;5;241;43m.\u001b[39;49m\u001b[43mprep_table\u001b[49m\u001b[43m(\u001b[49m\n\u001b[0;32m   1909\u001b[0m \u001b[43m    \u001b[49m\u001b[43mframe\u001b[49m\u001b[38;5;241;43m=\u001b[39;49m\u001b[43mframe\u001b[49m\u001b[43m,\u001b[49m\n\u001b[0;32m   1910\u001b[0m \u001b[43m    \u001b[49m\u001b[43mname\u001b[49m\u001b[38;5;241;43m=\u001b[39;49m\u001b[43mname\u001b[49m\u001b[43m,\u001b[49m\n\u001b[0;32m   1911\u001b[0m \u001b[43m    \u001b[49m\u001b[43mif_exists\u001b[49m\u001b[38;5;241;43m=\u001b[39;49m\u001b[43mif_exists\u001b[49m\u001b[43m,\u001b[49m\n\u001b[0;32m   1912\u001b[0m \u001b[43m    \u001b[49m\u001b[43mindex\u001b[49m\u001b[38;5;241;43m=\u001b[39;49m\u001b[43mindex\u001b[49m\u001b[43m,\u001b[49m\n\u001b[0;32m   1913\u001b[0m \u001b[43m    \u001b[49m\u001b[43mindex_label\u001b[49m\u001b[38;5;241;43m=\u001b[39;49m\u001b[43mindex_label\u001b[49m\u001b[43m,\u001b[49m\n\u001b[0;32m   1914\u001b[0m \u001b[43m    \u001b[49m\u001b[43mschema\u001b[49m\u001b[38;5;241;43m=\u001b[39;49m\u001b[43mschema\u001b[49m\u001b[43m,\u001b[49m\n\u001b[0;32m   1915\u001b[0m \u001b[43m    \u001b[49m\u001b[43mdtype\u001b[49m\u001b[38;5;241;43m=\u001b[39;49m\u001b[43mdtype\u001b[49m\u001b[43m,\u001b[49m\n\u001b[0;32m   1916\u001b[0m \u001b[43m\u001b[49m\u001b[43m)\u001b[49m\n\u001b[0;32m   1918\u001b[0m total_inserted \u001b[38;5;241m=\u001b[39m sql_engine\u001b[38;5;241m.\u001b[39minsert_records(\n\u001b[0;32m   1919\u001b[0m     table\u001b[38;5;241m=\u001b[39mtable,\n\u001b[0;32m   1920\u001b[0m     con\u001b[38;5;241m=\u001b[39m\u001b[38;5;28mself\u001b[39m\u001b[38;5;241m.\u001b[39mcon,\n\u001b[1;32m   (...)\u001b[0m\n\u001b[0;32m   1927\u001b[0m     \u001b[38;5;241m*\u001b[39m\u001b[38;5;241m*\u001b[39mengine_kwargs,\n\u001b[0;32m   1928\u001b[0m )\n\u001b[0;32m   1930\u001b[0m \u001b[38;5;28mself\u001b[39m\u001b[38;5;241m.\u001b[39mcheck_case_sensitive(name\u001b[38;5;241m=\u001b[39mname, schema\u001b[38;5;241m=\u001b[39mschema)\n",
      "File \u001b[1;32m~\\AppData\\Local\\Programs\\Python\\Python310\\lib\\site-packages\\pandas\\io\\sql.py:1812\u001b[0m, in \u001b[0;36mSQLDatabase.prep_table\u001b[1;34m(self, frame, name, if_exists, index, index_label, schema, dtype)\u001b[0m\n\u001b[0;32m   1800\u001b[0m             \u001b[38;5;28;01mraise\u001b[39;00m \u001b[38;5;167;01mValueError\u001b[39;00m(\u001b[38;5;124mf\u001b[39m\u001b[38;5;124m\"\u001b[39m\u001b[38;5;124mThe type of \u001b[39m\u001b[38;5;132;01m{\u001b[39;00mcol\u001b[38;5;132;01m}\u001b[39;00m\u001b[38;5;124m is not a SQLAlchemy type\u001b[39m\u001b[38;5;124m\"\u001b[39m)\n\u001b[0;32m   1802\u001b[0m table \u001b[38;5;241m=\u001b[39m SQLTable(\n\u001b[0;32m   1803\u001b[0m     name,\n\u001b[0;32m   1804\u001b[0m     \u001b[38;5;28mself\u001b[39m,\n\u001b[1;32m   (...)\u001b[0m\n\u001b[0;32m   1810\u001b[0m     dtype\u001b[38;5;241m=\u001b[39mdtype,\n\u001b[0;32m   1811\u001b[0m )\n\u001b[1;32m-> 1812\u001b[0m \u001b[43mtable\u001b[49m\u001b[38;5;241;43m.\u001b[39;49m\u001b[43mcreate\u001b[49m\u001b[43m(\u001b[49m\u001b[43m)\u001b[49m\n\u001b[0;32m   1813\u001b[0m \u001b[38;5;28;01mreturn\u001b[39;00m table\n",
      "File \u001b[1;32m~\\AppData\\Local\\Programs\\Python\\Python310\\lib\\site-packages\\pandas\\io\\sql.py:905\u001b[0m, in \u001b[0;36mSQLTable.create\u001b[1;34m(self)\u001b[0m\n\u001b[0;32m    903\u001b[0m     \u001b[38;5;28;01mraise\u001b[39;00m \u001b[38;5;167;01mValueError\u001b[39;00m(\u001b[38;5;124mf\u001b[39m\u001b[38;5;124m\"\u001b[39m\u001b[38;5;124mTable \u001b[39m\u001b[38;5;124m'\u001b[39m\u001b[38;5;132;01m{\u001b[39;00m\u001b[38;5;28mself\u001b[39m\u001b[38;5;241m.\u001b[39mname\u001b[38;5;132;01m}\u001b[39;00m\u001b[38;5;124m'\u001b[39m\u001b[38;5;124m already exists.\u001b[39m\u001b[38;5;124m\"\u001b[39m)\n\u001b[0;32m    904\u001b[0m \u001b[38;5;28;01mif\u001b[39;00m \u001b[38;5;28mself\u001b[39m\u001b[38;5;241m.\u001b[39mif_exists \u001b[38;5;241m==\u001b[39m \u001b[38;5;124m\"\u001b[39m\u001b[38;5;124mreplace\u001b[39m\u001b[38;5;124m\"\u001b[39m:\n\u001b[1;32m--> 905\u001b[0m     \u001b[38;5;28;43mself\u001b[39;49m\u001b[38;5;241;43m.\u001b[39;49m\u001b[43mpd_sql\u001b[49m\u001b[38;5;241;43m.\u001b[39;49m\u001b[43mdrop_table\u001b[49m\u001b[43m(\u001b[49m\u001b[38;5;28;43mself\u001b[39;49m\u001b[38;5;241;43m.\u001b[39;49m\u001b[43mname\u001b[49m\u001b[43m,\u001b[49m\u001b[43m \u001b[49m\u001b[38;5;28;43mself\u001b[39;49m\u001b[38;5;241;43m.\u001b[39;49m\u001b[43mschema\u001b[49m\u001b[43m)\u001b[49m\n\u001b[0;32m    906\u001b[0m     \u001b[38;5;28mself\u001b[39m\u001b[38;5;241m.\u001b[39m_execute_create()\n\u001b[0;32m    907\u001b[0m \u001b[38;5;28;01melif\u001b[39;00m \u001b[38;5;28mself\u001b[39m\u001b[38;5;241m.\u001b[39mif_exists \u001b[38;5;241m==\u001b[39m \u001b[38;5;124m\"\u001b[39m\u001b[38;5;124mappend\u001b[39m\u001b[38;5;124m\"\u001b[39m:\n",
      "File \u001b[1;32m~\\AppData\\Local\\Programs\\Python\\Python310\\lib\\site-packages\\pandas\\io\\sql.py:1961\u001b[0m, in \u001b[0;36mSQLDatabase.drop_table\u001b[1;34m(self, table_name, schema)\u001b[0m\n\u001b[0;32m   1959\u001b[0m \u001b[38;5;28mself\u001b[39m\u001b[38;5;241m.\u001b[39mmeta\u001b[38;5;241m.\u001b[39mreflect(bind\u001b[38;5;241m=\u001b[39m\u001b[38;5;28mself\u001b[39m\u001b[38;5;241m.\u001b[39mcon, only\u001b[38;5;241m=\u001b[39m[table_name], schema\u001b[38;5;241m=\u001b[39mschema)\n\u001b[0;32m   1960\u001b[0m \u001b[38;5;28;01mwith\u001b[39;00m \u001b[38;5;28mself\u001b[39m\u001b[38;5;241m.\u001b[39mrun_transaction():\n\u001b[1;32m-> 1961\u001b[0m     \u001b[38;5;28;43mself\u001b[39;49m\u001b[38;5;241;43m.\u001b[39;49m\u001b[43mget_table\u001b[49m\u001b[43m(\u001b[49m\u001b[43mtable_name\u001b[49m\u001b[43m,\u001b[49m\u001b[43m \u001b[49m\u001b[43mschema\u001b[49m\u001b[43m)\u001b[49m\u001b[38;5;241;43m.\u001b[39;49m\u001b[43mdrop\u001b[49m\u001b[43m(\u001b[49m\u001b[43mbind\u001b[49m\u001b[38;5;241;43m=\u001b[39;49m\u001b[38;5;28;43mself\u001b[39;49m\u001b[38;5;241;43m.\u001b[39;49m\u001b[43mcon\u001b[49m\u001b[43m)\u001b[49m\n\u001b[0;32m   1962\u001b[0m \u001b[38;5;28mself\u001b[39m\u001b[38;5;241m.\u001b[39mmeta\u001b[38;5;241m.\u001b[39mclear()\n",
      "File \u001b[1;32m~\\AppData\\Local\\Programs\\Python\\Python310\\lib\\site-packages\\sqlalchemy\\sql\\schema.py:1306\u001b[0m, in \u001b[0;36mTable.drop\u001b[1;34m(self, bind, checkfirst)\u001b[0m\n\u001b[0;32m   1296\u001b[0m \u001b[38;5;28;01mdef\u001b[39;00m \u001b[38;5;21mdrop\u001b[39m(\u001b[38;5;28mself\u001b[39m, bind: _CreateDropBind, checkfirst: \u001b[38;5;28mbool\u001b[39m \u001b[38;5;241m=\u001b[39m \u001b[38;5;28;01mFalse\u001b[39;00m) \u001b[38;5;241m-\u001b[39m\u001b[38;5;241m>\u001b[39m \u001b[38;5;28;01mNone\u001b[39;00m:\n\u001b[0;32m   1297\u001b[0m     \u001b[38;5;124;03m\"\"\"Issue a ``DROP`` statement for this\u001b[39;00m\n\u001b[0;32m   1298\u001b[0m \u001b[38;5;124;03m    :class:`_schema.Table`, using the given\u001b[39;00m\n\u001b[0;32m   1299\u001b[0m \u001b[38;5;124;03m    :class:`.Connection` or :class:`.Engine` for connectivity.\u001b[39;00m\n\u001b[1;32m   (...)\u001b[0m\n\u001b[0;32m   1304\u001b[0m \n\u001b[0;32m   1305\u001b[0m \u001b[38;5;124;03m    \"\"\"\u001b[39;00m\n\u001b[1;32m-> 1306\u001b[0m     \u001b[43mbind\u001b[49m\u001b[38;5;241;43m.\u001b[39;49m\u001b[43m_run_ddl_visitor\u001b[49m\u001b[43m(\u001b[49m\u001b[43mddl\u001b[49m\u001b[38;5;241;43m.\u001b[39;49m\u001b[43mSchemaDropper\u001b[49m\u001b[43m,\u001b[49m\u001b[43m \u001b[49m\u001b[38;5;28;43mself\u001b[39;49m\u001b[43m,\u001b[49m\u001b[43m \u001b[49m\u001b[43mcheckfirst\u001b[49m\u001b[38;5;241;43m=\u001b[39;49m\u001b[43mcheckfirst\u001b[49m\u001b[43m)\u001b[49m\n",
      "File \u001b[1;32m~\\AppData\\Local\\Programs\\Python\\Python310\\lib\\site-packages\\sqlalchemy\\engine\\base.py:2448\u001b[0m, in \u001b[0;36mConnection._run_ddl_visitor\u001b[1;34m(self, visitorcallable, element, **kwargs)\u001b[0m\n\u001b[0;32m   2436\u001b[0m \u001b[38;5;28;01mdef\u001b[39;00m \u001b[38;5;21m_run_ddl_visitor\u001b[39m(\n\u001b[0;32m   2437\u001b[0m     \u001b[38;5;28mself\u001b[39m,\n\u001b[0;32m   2438\u001b[0m     visitorcallable: Type[Union[SchemaGenerator, SchemaDropper]],\n\u001b[0;32m   2439\u001b[0m     element: SchemaItem,\n\u001b[0;32m   2440\u001b[0m     \u001b[38;5;241m*\u001b[39m\u001b[38;5;241m*\u001b[39mkwargs: Any,\n\u001b[0;32m   2441\u001b[0m ) \u001b[38;5;241m-\u001b[39m\u001b[38;5;241m>\u001b[39m \u001b[38;5;28;01mNone\u001b[39;00m:\n\u001b[0;32m   2442\u001b[0m     \u001b[38;5;124;03m\"\"\"run a DDL visitor.\u001b[39;00m\n\u001b[0;32m   2443\u001b[0m \n\u001b[0;32m   2444\u001b[0m \u001b[38;5;124;03m    This method is only here so that the MockConnection can change the\u001b[39;00m\n\u001b[0;32m   2445\u001b[0m \u001b[38;5;124;03m    options given to the visitor so that \"checkfirst\" is skipped.\u001b[39;00m\n\u001b[0;32m   2446\u001b[0m \n\u001b[0;32m   2447\u001b[0m \u001b[38;5;124;03m    \"\"\"\u001b[39;00m\n\u001b[1;32m-> 2448\u001b[0m     \u001b[43mvisitorcallable\u001b[49m\u001b[43m(\u001b[49m\u001b[38;5;28;43mself\u001b[39;49m\u001b[38;5;241;43m.\u001b[39;49m\u001b[43mdialect\u001b[49m\u001b[43m,\u001b[49m\u001b[43m \u001b[49m\u001b[38;5;28;43mself\u001b[39;49m\u001b[43m,\u001b[49m\u001b[43m \u001b[49m\u001b[38;5;241;43m*\u001b[39;49m\u001b[38;5;241;43m*\u001b[39;49m\u001b[43mkwargs\u001b[49m\u001b[43m)\u001b[49m\u001b[38;5;241;43m.\u001b[39;49m\u001b[43mtraverse_single\u001b[49m\u001b[43m(\u001b[49m\u001b[43melement\u001b[49m\u001b[43m)\u001b[49m\n",
      "File \u001b[1;32m~\\AppData\\Local\\Programs\\Python\\Python310\\lib\\site-packages\\sqlalchemy\\sql\\visitors.py:670\u001b[0m, in \u001b[0;36mExternalTraversal.traverse_single\u001b[1;34m(self, obj, **kw)\u001b[0m\n\u001b[0;32m    668\u001b[0m meth \u001b[38;5;241m=\u001b[39m \u001b[38;5;28mgetattr\u001b[39m(v, \u001b[38;5;124m\"\u001b[39m\u001b[38;5;124mvisit_\u001b[39m\u001b[38;5;132;01m%s\u001b[39;00m\u001b[38;5;124m\"\u001b[39m \u001b[38;5;241m%\u001b[39m obj\u001b[38;5;241m.\u001b[39m__visit_name__, \u001b[38;5;28;01mNone\u001b[39;00m)\n\u001b[0;32m    669\u001b[0m \u001b[38;5;28;01mif\u001b[39;00m meth:\n\u001b[1;32m--> 670\u001b[0m     \u001b[38;5;28;01mreturn\u001b[39;00m meth(obj, \u001b[38;5;241m*\u001b[39m\u001b[38;5;241m*\u001b[39mkw)\n",
      "File \u001b[1;32m~\\AppData\\Local\\Programs\\Python\\Python310\\lib\\site-packages\\sqlalchemy\\sql\\ddl.py:1148\u001b[0m, in \u001b[0;36mSchemaDropper.visit_table\u001b[1;34m(self, table, drop_ok, _is_metadata_operation, _ignore_sequences)\u001b[0m\n\u001b[0;32m   1140\u001b[0m     \u001b[38;5;28;01mreturn\u001b[39;00m\n\u001b[0;32m   1142\u001b[0m \u001b[38;5;28;01mwith\u001b[39;00m \u001b[38;5;28mself\u001b[39m\u001b[38;5;241m.\u001b[39mwith_ddl_events(\n\u001b[0;32m   1143\u001b[0m     table,\n\u001b[0;32m   1144\u001b[0m     checkfirst\u001b[38;5;241m=\u001b[39m\u001b[38;5;28mself\u001b[39m\u001b[38;5;241m.\u001b[39mcheckfirst,\n\u001b[0;32m   1145\u001b[0m     _is_metadata_operation\u001b[38;5;241m=\u001b[39m_is_metadata_operation,\n\u001b[0;32m   1146\u001b[0m ):\n\u001b[1;32m-> 1148\u001b[0m     \u001b[43mDropTable\u001b[49m\u001b[43m(\u001b[49m\u001b[43mtable\u001b[49m\u001b[43m)\u001b[49m\u001b[38;5;241;43m.\u001b[39;49m\u001b[43m_invoke_with\u001b[49m\u001b[43m(\u001b[49m\u001b[38;5;28;43mself\u001b[39;49m\u001b[38;5;241;43m.\u001b[39;49m\u001b[43mconnection\u001b[49m\u001b[43m)\u001b[49m\n\u001b[0;32m   1150\u001b[0m     \u001b[38;5;66;03m# traverse client side defaults which may refer to server-side\u001b[39;00m\n\u001b[0;32m   1151\u001b[0m     \u001b[38;5;66;03m# sequences. noting that some of these client side defaults may\u001b[39;00m\n\u001b[0;32m   1152\u001b[0m     \u001b[38;5;66;03m# also be set up as server side defaults\u001b[39;00m\n\u001b[1;32m   (...)\u001b[0m\n\u001b[0;32m   1155\u001b[0m     \u001b[38;5;66;03m# #associating-a-sequence-as-the-server-side-\u001b[39;00m\n\u001b[0;32m   1156\u001b[0m     \u001b[38;5;66;03m# default), so have to be dropped after the table is dropped.\u001b[39;00m\n\u001b[0;32m   1157\u001b[0m     \u001b[38;5;28;01mfor\u001b[39;00m column \u001b[38;5;129;01min\u001b[39;00m table\u001b[38;5;241m.\u001b[39mcolumns:\n",
      "File \u001b[1;32m~\\AppData\\Local\\Programs\\Python\\Python310\\lib\\site-packages\\sqlalchemy\\sql\\ddl.py:315\u001b[0m, in \u001b[0;36mExecutableDDLElement._invoke_with\u001b[1;34m(self, bind)\u001b[0m\n\u001b[0;32m    313\u001b[0m \u001b[38;5;28;01mdef\u001b[39;00m \u001b[38;5;21m_invoke_with\u001b[39m(\u001b[38;5;28mself\u001b[39m, bind):\n\u001b[0;32m    314\u001b[0m     \u001b[38;5;28;01mif\u001b[39;00m \u001b[38;5;28mself\u001b[39m\u001b[38;5;241m.\u001b[39m_should_execute(\u001b[38;5;28mself\u001b[39m\u001b[38;5;241m.\u001b[39mtarget, bind):\n\u001b[1;32m--> 315\u001b[0m         \u001b[38;5;28;01mreturn\u001b[39;00m \u001b[43mbind\u001b[49m\u001b[38;5;241;43m.\u001b[39;49m\u001b[43mexecute\u001b[49m\u001b[43m(\u001b[49m\u001b[38;5;28;43mself\u001b[39;49m\u001b[43m)\u001b[49m\n",
      "File \u001b[1;32m~\\AppData\\Local\\Programs\\Python\\Python310\\lib\\site-packages\\sqlalchemy\\engine\\base.py:1413\u001b[0m, in \u001b[0;36mConnection.execute\u001b[1;34m(self, statement, parameters, execution_options)\u001b[0m\n\u001b[0;32m   1411\u001b[0m     \u001b[38;5;28;01mraise\u001b[39;00m exc\u001b[38;5;241m.\u001b[39mObjectNotExecutableError(statement) \u001b[38;5;28;01mfrom\u001b[39;00m \u001b[38;5;21;01merr\u001b[39;00m\n\u001b[0;32m   1412\u001b[0m \u001b[38;5;28;01melse\u001b[39;00m:\n\u001b[1;32m-> 1413\u001b[0m     \u001b[38;5;28;01mreturn\u001b[39;00m \u001b[43mmeth\u001b[49m\u001b[43m(\u001b[49m\n\u001b[0;32m   1414\u001b[0m \u001b[43m        \u001b[49m\u001b[38;5;28;43mself\u001b[39;49m\u001b[43m,\u001b[49m\n\u001b[0;32m   1415\u001b[0m \u001b[43m        \u001b[49m\u001b[43mdistilled_parameters\u001b[49m\u001b[43m,\u001b[49m\n\u001b[0;32m   1416\u001b[0m \u001b[43m        \u001b[49m\u001b[43mexecution_options\u001b[49m\u001b[43m \u001b[49m\u001b[38;5;129;43;01mor\u001b[39;49;00m\u001b[43m \u001b[49m\u001b[43mNO_OPTIONS\u001b[49m\u001b[43m,\u001b[49m\n\u001b[0;32m   1417\u001b[0m \u001b[43m    \u001b[49m\u001b[43m)\u001b[49m\n",
      "File \u001b[1;32m~\\AppData\\Local\\Programs\\Python\\Python310\\lib\\site-packages\\sqlalchemy\\sql\\ddl.py:181\u001b[0m, in \u001b[0;36mExecutableDDLElement._execute_on_connection\u001b[1;34m(self, connection, distilled_params, execution_options)\u001b[0m\n\u001b[0;32m    178\u001b[0m \u001b[38;5;28;01mdef\u001b[39;00m \u001b[38;5;21m_execute_on_connection\u001b[39m(\n\u001b[0;32m    179\u001b[0m     \u001b[38;5;28mself\u001b[39m, connection, distilled_params, execution_options\n\u001b[0;32m    180\u001b[0m ):\n\u001b[1;32m--> 181\u001b[0m     \u001b[38;5;28;01mreturn\u001b[39;00m \u001b[43mconnection\u001b[49m\u001b[38;5;241;43m.\u001b[39;49m\u001b[43m_execute_ddl\u001b[49m\u001b[43m(\u001b[49m\n\u001b[0;32m    182\u001b[0m \u001b[43m        \u001b[49m\u001b[38;5;28;43mself\u001b[39;49m\u001b[43m,\u001b[49m\u001b[43m \u001b[49m\u001b[43mdistilled_params\u001b[49m\u001b[43m,\u001b[49m\u001b[43m \u001b[49m\u001b[43mexecution_options\u001b[49m\n\u001b[0;32m    183\u001b[0m \u001b[43m    \u001b[49m\u001b[43m)\u001b[49m\n",
      "File \u001b[1;32m~\\AppData\\Local\\Programs\\Python\\Python310\\lib\\site-packages\\sqlalchemy\\engine\\base.py:1525\u001b[0m, in \u001b[0;36mConnection._execute_ddl\u001b[1;34m(self, ddl, distilled_parameters, execution_options)\u001b[0m\n\u001b[0;32m   1520\u001b[0m dialect \u001b[38;5;241m=\u001b[39m \u001b[38;5;28mself\u001b[39m\u001b[38;5;241m.\u001b[39mdialect\n\u001b[0;32m   1522\u001b[0m compiled \u001b[38;5;241m=\u001b[39m ddl\u001b[38;5;241m.\u001b[39mcompile(\n\u001b[0;32m   1523\u001b[0m     dialect\u001b[38;5;241m=\u001b[39mdialect, schema_translate_map\u001b[38;5;241m=\u001b[39mschema_translate_map\n\u001b[0;32m   1524\u001b[0m )\n\u001b[1;32m-> 1525\u001b[0m ret \u001b[38;5;241m=\u001b[39m \u001b[38;5;28;43mself\u001b[39;49m\u001b[38;5;241;43m.\u001b[39;49m\u001b[43m_execute_context\u001b[49m\u001b[43m(\u001b[49m\n\u001b[0;32m   1526\u001b[0m \u001b[43m    \u001b[49m\u001b[43mdialect\u001b[49m\u001b[43m,\u001b[49m\n\u001b[0;32m   1527\u001b[0m \u001b[43m    \u001b[49m\u001b[43mdialect\u001b[49m\u001b[38;5;241;43m.\u001b[39;49m\u001b[43mexecution_ctx_cls\u001b[49m\u001b[38;5;241;43m.\u001b[39;49m\u001b[43m_init_ddl\u001b[49m\u001b[43m,\u001b[49m\n\u001b[0;32m   1528\u001b[0m \u001b[43m    \u001b[49m\u001b[43mcompiled\u001b[49m\u001b[43m,\u001b[49m\n\u001b[0;32m   1529\u001b[0m \u001b[43m    \u001b[49m\u001b[38;5;28;43;01mNone\u001b[39;49;00m\u001b[43m,\u001b[49m\n\u001b[0;32m   1530\u001b[0m \u001b[43m    \u001b[49m\u001b[43mexecution_options\u001b[49m\u001b[43m,\u001b[49m\n\u001b[0;32m   1531\u001b[0m \u001b[43m    \u001b[49m\u001b[43mcompiled\u001b[49m\u001b[43m,\u001b[49m\n\u001b[0;32m   1532\u001b[0m \u001b[43m\u001b[49m\u001b[43m)\u001b[49m\n\u001b[0;32m   1533\u001b[0m \u001b[38;5;28;01mif\u001b[39;00m \u001b[38;5;28mself\u001b[39m\u001b[38;5;241m.\u001b[39m_has_events \u001b[38;5;129;01mor\u001b[39;00m \u001b[38;5;28mself\u001b[39m\u001b[38;5;241m.\u001b[39mengine\u001b[38;5;241m.\u001b[39m_has_events:\n\u001b[0;32m   1534\u001b[0m     \u001b[38;5;28mself\u001b[39m\u001b[38;5;241m.\u001b[39mdispatch\u001b[38;5;241m.\u001b[39mafter_execute(\n\u001b[0;32m   1535\u001b[0m         \u001b[38;5;28mself\u001b[39m,\n\u001b[0;32m   1536\u001b[0m         ddl,\n\u001b[1;32m   (...)\u001b[0m\n\u001b[0;32m   1540\u001b[0m         ret,\n\u001b[0;32m   1541\u001b[0m     )\n",
      "File \u001b[1;32m~\\AppData\\Local\\Programs\\Python\\Python310\\lib\\site-packages\\sqlalchemy\\engine\\base.py:1846\u001b[0m, in \u001b[0;36mConnection._execute_context\u001b[1;34m(self, dialect, constructor, statement, parameters, execution_options, *args, **kw)\u001b[0m\n\u001b[0;32m   1841\u001b[0m     \u001b[38;5;28;01mreturn\u001b[39;00m \u001b[38;5;28mself\u001b[39m\u001b[38;5;241m.\u001b[39m_exec_insertmany_context(\n\u001b[0;32m   1842\u001b[0m         dialect,\n\u001b[0;32m   1843\u001b[0m         context,\n\u001b[0;32m   1844\u001b[0m     )\n\u001b[0;32m   1845\u001b[0m \u001b[38;5;28;01melse\u001b[39;00m:\n\u001b[1;32m-> 1846\u001b[0m     \u001b[38;5;28;01mreturn\u001b[39;00m \u001b[38;5;28;43mself\u001b[39;49m\u001b[38;5;241;43m.\u001b[39;49m\u001b[43m_exec_single_context\u001b[49m\u001b[43m(\u001b[49m\n\u001b[0;32m   1847\u001b[0m \u001b[43m        \u001b[49m\u001b[43mdialect\u001b[49m\u001b[43m,\u001b[49m\u001b[43m \u001b[49m\u001b[43mcontext\u001b[49m\u001b[43m,\u001b[49m\u001b[43m \u001b[49m\u001b[43mstatement\u001b[49m\u001b[43m,\u001b[49m\u001b[43m \u001b[49m\u001b[43mparameters\u001b[49m\n\u001b[0;32m   1848\u001b[0m \u001b[43m    \u001b[49m\u001b[43m)\u001b[49m\n",
      "File \u001b[1;32m~\\AppData\\Local\\Programs\\Python\\Python310\\lib\\site-packages\\sqlalchemy\\engine\\base.py:1987\u001b[0m, in \u001b[0;36mConnection._exec_single_context\u001b[1;34m(self, dialect, context, statement, parameters)\u001b[0m\n\u001b[0;32m   1984\u001b[0m     result \u001b[38;5;241m=\u001b[39m context\u001b[38;5;241m.\u001b[39m_setup_result_proxy()\n\u001b[0;32m   1986\u001b[0m \u001b[38;5;28;01mexcept\u001b[39;00m \u001b[38;5;167;01mBaseException\u001b[39;00m \u001b[38;5;28;01mas\u001b[39;00m e:\n\u001b[1;32m-> 1987\u001b[0m     \u001b[38;5;28;43mself\u001b[39;49m\u001b[38;5;241;43m.\u001b[39;49m\u001b[43m_handle_dbapi_exception\u001b[49m\u001b[43m(\u001b[49m\n\u001b[0;32m   1988\u001b[0m \u001b[43m        \u001b[49m\u001b[43me\u001b[49m\u001b[43m,\u001b[49m\u001b[43m \u001b[49m\u001b[43mstr_statement\u001b[49m\u001b[43m,\u001b[49m\u001b[43m \u001b[49m\u001b[43meffective_parameters\u001b[49m\u001b[43m,\u001b[49m\u001b[43m \u001b[49m\u001b[43mcursor\u001b[49m\u001b[43m,\u001b[49m\u001b[43m \u001b[49m\u001b[43mcontext\u001b[49m\n\u001b[0;32m   1989\u001b[0m \u001b[43m    \u001b[49m\u001b[43m)\u001b[49m\n\u001b[0;32m   1991\u001b[0m \u001b[38;5;28;01mreturn\u001b[39;00m result\n",
      "File \u001b[1;32m~\\AppData\\Local\\Programs\\Python\\Python310\\lib\\site-packages\\sqlalchemy\\engine\\base.py:2344\u001b[0m, in \u001b[0;36mConnection._handle_dbapi_exception\u001b[1;34m(self, e, statement, parameters, cursor, context, is_sub_exec)\u001b[0m\n\u001b[0;32m   2342\u001b[0m \u001b[38;5;28;01melif\u001b[39;00m should_wrap:\n\u001b[0;32m   2343\u001b[0m     \u001b[38;5;28;01massert\u001b[39;00m sqlalchemy_exception \u001b[38;5;129;01mis\u001b[39;00m \u001b[38;5;129;01mnot\u001b[39;00m \u001b[38;5;28;01mNone\u001b[39;00m\n\u001b[1;32m-> 2344\u001b[0m     \u001b[38;5;28;01mraise\u001b[39;00m sqlalchemy_exception\u001b[38;5;241m.\u001b[39mwith_traceback(exc_info[\u001b[38;5;241m2\u001b[39m]) \u001b[38;5;28;01mfrom\u001b[39;00m \u001b[38;5;21;01me\u001b[39;00m\n\u001b[0;32m   2345\u001b[0m \u001b[38;5;28;01melse\u001b[39;00m:\n\u001b[0;32m   2346\u001b[0m     \u001b[38;5;28;01massert\u001b[39;00m exc_info[\u001b[38;5;241m1\u001b[39m] \u001b[38;5;129;01mis\u001b[39;00m \u001b[38;5;129;01mnot\u001b[39;00m \u001b[38;5;28;01mNone\u001b[39;00m\n",
      "File \u001b[1;32m~\\AppData\\Local\\Programs\\Python\\Python310\\lib\\site-packages\\sqlalchemy\\engine\\base.py:1968\u001b[0m, in \u001b[0;36mConnection._exec_single_context\u001b[1;34m(self, dialect, context, statement, parameters)\u001b[0m\n\u001b[0;32m   1966\u001b[0m                 \u001b[38;5;28;01mbreak\u001b[39;00m\n\u001b[0;32m   1967\u001b[0m     \u001b[38;5;28;01mif\u001b[39;00m \u001b[38;5;129;01mnot\u001b[39;00m evt_handled:\n\u001b[1;32m-> 1968\u001b[0m         \u001b[38;5;28;43mself\u001b[39;49m\u001b[38;5;241;43m.\u001b[39;49m\u001b[43mdialect\u001b[49m\u001b[38;5;241;43m.\u001b[39;49m\u001b[43mdo_execute\u001b[49m\u001b[43m(\u001b[49m\n\u001b[0;32m   1969\u001b[0m \u001b[43m            \u001b[49m\u001b[43mcursor\u001b[49m\u001b[43m,\u001b[49m\u001b[43m \u001b[49m\u001b[43mstr_statement\u001b[49m\u001b[43m,\u001b[49m\u001b[43m \u001b[49m\u001b[43meffective_parameters\u001b[49m\u001b[43m,\u001b[49m\u001b[43m \u001b[49m\u001b[43mcontext\u001b[49m\n\u001b[0;32m   1970\u001b[0m \u001b[43m        \u001b[49m\u001b[43m)\u001b[49m\n\u001b[0;32m   1972\u001b[0m \u001b[38;5;28;01mif\u001b[39;00m \u001b[38;5;28mself\u001b[39m\u001b[38;5;241m.\u001b[39m_has_events \u001b[38;5;129;01mor\u001b[39;00m \u001b[38;5;28mself\u001b[39m\u001b[38;5;241m.\u001b[39mengine\u001b[38;5;241m.\u001b[39m_has_events:\n\u001b[0;32m   1973\u001b[0m     \u001b[38;5;28mself\u001b[39m\u001b[38;5;241m.\u001b[39mdispatch\u001b[38;5;241m.\u001b[39mafter_cursor_execute(\n\u001b[0;32m   1974\u001b[0m         \u001b[38;5;28mself\u001b[39m,\n\u001b[0;32m   1975\u001b[0m         cursor,\n\u001b[1;32m   (...)\u001b[0m\n\u001b[0;32m   1979\u001b[0m         context\u001b[38;5;241m.\u001b[39mexecutemany,\n\u001b[0;32m   1980\u001b[0m     )\n",
      "File \u001b[1;32m~\\AppData\\Local\\Programs\\Python\\Python310\\lib\\site-packages\\sqlalchemy\\engine\\default.py:920\u001b[0m, in \u001b[0;36mDefaultDialect.do_execute\u001b[1;34m(self, cursor, statement, parameters, context)\u001b[0m\n\u001b[0;32m    919\u001b[0m \u001b[38;5;28;01mdef\u001b[39;00m \u001b[38;5;21mdo_execute\u001b[39m(\u001b[38;5;28mself\u001b[39m, cursor, statement, parameters, context\u001b[38;5;241m=\u001b[39m\u001b[38;5;28;01mNone\u001b[39;00m):\n\u001b[1;32m--> 920\u001b[0m     \u001b[43mcursor\u001b[49m\u001b[38;5;241;43m.\u001b[39;49m\u001b[43mexecute\u001b[49m\u001b[43m(\u001b[49m\u001b[43mstatement\u001b[49m\u001b[43m,\u001b[49m\u001b[43m \u001b[49m\u001b[43mparameters\u001b[49m\u001b[43m)\u001b[49m\n",
      "\u001b[1;31mInternalError\u001b[0m: (psycopg2.errors.DependentObjectsStillExist) cannot drop table title_financials because other objects depend on it\nDETAIL:  view financial_features depends on table title_financials\nHINT:  Use DROP ... CASCADE to drop the dependent objects too.\n\n[SQL: \nDROP TABLE title_financials]\n(Background on this error at: https://sqlalche.me/e/20/2j85)"
     ]
    }
   ],
   "source": [
    "#title_financials\n",
    "title_financials.to_sql(\"title_financials\", con=db_URI, index=False, method='multi', if_exists='replace')"
   ]
  },
  {
   "cell_type": "code",
   "execution_count": 84,
   "id": "cde22292",
   "metadata": {},
   "outputs": [
    {
     "name": "stdout",
     "output_type": "stream",
     "text": [
      "SQL Failed: ERROR:  could not create unique index \"title_financials_pk\"\n",
      "DETAIL:  Key (tconst)=(tt1979388) is duplicated.\n",
      "\n"
     ]
    }
   ],
   "source": [
    "# Add the primary key\n",
    "execute_sql(\"\"\"ALTER TABLE title_financials\n",
    "ADD CONSTRAINT title_financials_PK PRIMARY KEY (tconst);\"\"\")"
   ]
  },
  {
   "cell_type": "code",
   "execution_count": 85,
   "id": "57182e30",
   "metadata": {},
   "outputs": [
    {
     "data": {
      "text/html": [
       "<div>\n",
       "<style scoped>\n",
       "    .dataframe tbody tr th:only-of-type {\n",
       "        vertical-align: middle;\n",
       "    }\n",
       "\n",
       "    .dataframe tbody tr th {\n",
       "        vertical-align: top;\n",
       "    }\n",
       "\n",
       "    .dataframe thead th {\n",
       "        text-align: right;\n",
       "    }\n",
       "</style>\n",
       "<table border=\"1\" class=\"dataframe\">\n",
       "  <thead>\n",
       "    <tr style=\"text-align: right;\">\n",
       "      <th></th>\n",
       "      <th>tconst</th>\n",
       "      <th>film</th>\n",
       "      <th>opening_weekend</th>\n",
       "      <th>domestic_gross</th>\n",
       "      <th>foreign_gross</th>\n",
       "      <th>worldwide_gross</th>\n",
       "      <th>budget_in_million</th>\n",
       "    </tr>\n",
       "  </thead>\n",
       "  <tbody>\n",
       "    <tr>\n",
       "      <th>0</th>\n",
       "      <td>tt1979388</td>\n",
       "      <td>The Good Dinosaur</td>\n",
       "      <td>39155217</td>\n",
       "      <td>8320188</td>\n",
       "      <td>209120551</td>\n",
       "      <td>217440739</td>\n",
       "      <td>200.0</td>\n",
       "    </tr>\n",
       "    <tr>\n",
       "      <th>1</th>\n",
       "      <td>tt1979388</td>\n",
       "      <td>The Good Dinosaur</td>\n",
       "      <td>39155217</td>\n",
       "      <td>123087120</td>\n",
       "      <td>209120551</td>\n",
       "      <td>332207671</td>\n",
       "      <td>200.0</td>\n",
       "    </tr>\n",
       "  </tbody>\n",
       "</table>\n",
       "</div>"
      ],
      "text/plain": [
       "      tconst               film  opening_weekend  domestic_gross   \n",
       "0  tt1979388  The Good Dinosaur         39155217         8320188  \\\n",
       "1  tt1979388  The Good Dinosaur         39155217       123087120   \n",
       "\n",
       "   foreign_gross  worldwide_gross  budget_in_million  \n",
       "0      209120551        217440739              200.0  \n",
       "1      209120551        332207671              200.0  "
      ]
     },
     "execution_count": 85,
     "metadata": {},
     "output_type": "execute_result"
    }
   ],
   "source": [
    "sql = \"\"\"SELECT *\n",
    "    FROM mlabbe.title_financials \n",
    "    WHERE tconst = 'tt1979388'\"\"\" \n",
    "\n",
    "pd.read_sql(sql, db_URI)"
   ]
  },
  {
   "cell_type": "code",
   "execution_count": 86,
   "id": "14ccd593",
   "metadata": {},
   "outputs": [
    {
     "name": "stdout",
     "output_type": "stream",
     "text": [
      "delete from title_financials where tconst = 'tt1979388' and worldwide_gross = 217440739;\n"
     ]
    }
   ],
   "source": [
    "# Quick google search identified 332 million in worldwide-gross, making 217 million data entry false. \n",
    "execute_sql(\"\"\"delete from title_financials where tconst = 'tt1979388' and worldwide_gross = 217440739;\"\"\")"
   ]
  },
  {
   "cell_type": "code",
   "execution_count": 87,
   "id": "1f695419",
   "metadata": {},
   "outputs": [
    {
     "name": "stdout",
     "output_type": "stream",
     "text": [
      "ALTER TABLE title_financials\n",
      "ADD CONSTRAINT title_financials_PK PRIMARY KEY (tconst);\n"
     ]
    }
   ],
   "source": [
    "# Add the primary key (2nd Attempt)\n",
    "execute_sql(\"\"\"ALTER TABLE title_financials\n",
    "ADD CONSTRAINT title_financials_PK PRIMARY KEY (tconst);\"\"\")"
   ]
  },
  {
   "cell_type": "code",
   "execution_count": 88,
   "id": "b77082a8",
   "metadata": {},
   "outputs": [
    {
     "name": "stdout",
     "output_type": "stream",
     "text": [
      "ALTER TABLE title_financials\n",
      "ADD CONSTRAINT opening_weekend_nonnegative check (opening_weekend >=0);\n",
      "ALTER TABLE title_financials\n",
      "ADD CONSTRAINT domestic_gross_nonnegative check (domestic_gross >=0);\n",
      "ALTER TABLE title_financials\n",
      "ADD CONSTRAINT foreign_gross_nonnegative check (foreign_gross >=0);\n",
      "ALTER TABLE title_financials\n",
      "ADD CONSTRAINT worldwide_gross_nonnegative check (worldwide_gross >=0);\n",
      "ALTER TABLE title_financials\n",
      "ADD CONSTRAINT budget_in_million_nonnegative check (budget_in_million >=0);\n"
     ]
    }
   ],
   "source": [
    "# Add nonnegative constraints:\n",
    "execute_sql(\"\"\"ALTER TABLE title_financials\n",
    "ADD CONSTRAINT opening_weekend_nonnegative check (opening_weekend >=0);\"\"\")\n",
    "execute_sql(\"\"\"ALTER TABLE title_financials\n",
    "ADD CONSTRAINT domestic_gross_nonnegative check (domestic_gross >=0);\"\"\")\n",
    "execute_sql(\"\"\"ALTER TABLE title_financials\n",
    "ADD CONSTRAINT foreign_gross_nonnegative check (foreign_gross >=0);\"\"\")\n",
    "execute_sql(\"\"\"ALTER TABLE title_financials\n",
    "ADD CONSTRAINT worldwide_gross_nonnegative check (worldwide_gross >=0);\"\"\")\n",
    "execute_sql(\"\"\"ALTER TABLE title_financials\n",
    "ADD CONSTRAINT budget_in_million_nonnegative check (budget_in_million >=0);\"\"\")"
   ]
  },
  {
   "cell_type": "markdown",
   "id": "54ae50bf",
   "metadata": {},
   "source": [
    "**5. Create view named financial_features in mlabbe schema for training predictive models that estimate the gross revenue of films.<br>**"
   ]
  },
  {
   "cell_type": "code",
   "execution_count": 270,
   "id": "96892fd0",
   "metadata": {},
   "outputs": [
    {
     "name": "stdout",
     "output_type": "stream",
     "text": [
      "CREATE OR REPLACE VIEW financial_features AS (SELECT \n",
      "    (2023 - title_basics.startyear) as ageofmovie,\n",
      "    title_basics.runtimeminutes,\n",
      "    title_ratings.averagerating,\n",
      "    title_ratings.numvotes,\n",
      "    title_financials.WORLDWIDE_GROSS\n",
      "    FROM mlabbe.title_financials \n",
      "    LEFT JOIN IMDB.TITLE_BASICS ON TITLE_BASICS.TCONST = TITLE_FINANCIALS.TCONST\n",
      "    INNER JOIN IMDB.title_ratings on title_ratings.tconst = title_basics.TCONST\n",
      "    WHERE titletype = 'movie');\n"
     ]
    }
   ],
   "source": [
    "execute_sql(\"\"\"CREATE OR REPLACE VIEW financial_features AS (SELECT \n",
    "    (2023 - title_basics.startyear) as ageofmovie,\n",
    "    title_basics.runtimeminutes,\n",
    "    title_ratings.averagerating,\n",
    "    title_ratings.numvotes,\n",
    "    title_financials.WORLDWIDE_GROSS\n",
    "    FROM mlabbe.title_financials \n",
    "    LEFT JOIN IMDB.TITLE_BASICS ON TITLE_BASICS.TCONST = TITLE_FINANCIALS.TCONST\n",
    "    INNER JOIN IMDB.title_ratings on title_ratings.tconst = title_basics.TCONST\n",
    "    WHERE titletype = 'movie');\"\"\")"
   ]
  },
  {
   "cell_type": "markdown",
   "id": "256d1f77",
   "metadata": {},
   "source": [
    "**6. Explore the relationships in your financial_features view and make a first attempt at a predictive model to estimate the gross revenue of films.<br>**"
   ]
  },
  {
   "cell_type": "markdown",
   "id": "ef7202e8",
   "metadata": {},
   "source": [
    "My dependent variable will be WORLDWIDE_GROSS. My independent variables are as follows: STARTYEAR, RUNTIMEMINUTES, GENRE, AND PRIMARYNAME (for actor/actress). "
   ]
  },
  {
   "cell_type": "code",
   "execution_count": 271,
   "id": "58e778f9",
   "metadata": {},
   "outputs": [],
   "source": [
    "import numpy as np\n",
    "from sklearn.model_selection import train_test_split"
   ]
  },
  {
   "cell_type": "code",
   "execution_count": 272,
   "id": "f9218527",
   "metadata": {},
   "outputs": [],
   "source": [
    "financial_features = pd.read_sql(f\"\"\"select * from mlabbe.financial_features;\"\"\", db_URI)"
   ]
  },
  {
   "cell_type": "code",
   "execution_count": 273,
   "id": "fa3ec6e5",
   "metadata": {},
   "outputs": [],
   "source": [
    "financial_features = financial_features.dropna()"
   ]
  },
  {
   "cell_type": "code",
   "execution_count": 274,
   "id": "4d2f8261",
   "metadata": {},
   "outputs": [],
   "source": [
    "X = financial_features[['ageofmovie', 'runtimeminutes', 'averagerating', 'numvotes']]\n",
    "y = financial_features['worldwide_gross']\n",
    "X.to_numpy()\n",
    "y.to_numpy()\n",
    "X = X.apply(lambda iterator: ((iterator.max() - iterator)/(iterator.max() - iterator.min())).round(2))\n",
    "y = y.transpose()"
   ]
  },
  {
   "cell_type": "code",
   "execution_count": 275,
   "id": "d6476fc8",
   "metadata": {},
   "outputs": [],
   "source": [
    "X_train,X_test,y_train,y_test=train_test_split(X,y,test_size=0.2, random_state=1842)"
   ]
  },
  {
   "cell_type": "code",
   "execution_count": 276,
   "id": "a649521d",
   "metadata": {},
   "outputs": [
    {
     "name": "stdout",
     "output_type": "stream",
     "text": [
      "Coefficients: [ 8.79024741e+07 -1.28572156e+08  2.17176409e+08 -1.81476020e+09]\n",
      "Intercept: 1813542609.4775708\n",
      "Coefficient of determination (R^2): 0.391\n",
      "Mean squared error (MSE): 50837423033545408.000\n",
      "Root mean squared error (RMSE) : 225471557.039\n"
     ]
    }
   ],
   "source": [
    "from sklearn  import linear_model \n",
    "from sklearn.metrics import mean_squared_error, r2_score, mean_absolute_error\n",
    "from math import sqrt\n",
    "\n",
    "# Train the model\n",
    "model = linear_model.LinearRegression()\n",
    "model.fit(X, y)\n",
    "y_hat = model.predict(X_test)\n",
    "\n",
    "# Model performance\n",
    "print('Coefficients:', model.coef_)\n",
    "print('Intercept:', model.intercept_)\n",
    "print('Coefficient of determination (R^2): %.3f' % r2_score(y_test, y_hat))\n",
    "print('Mean squared error (MSE): %.3f'% mean_squared_error(y_test, y_hat))\n",
    "print('Root mean squared error (RMSE) : %.3f'% sqrt(mean_squared_error(y_test, y_hat)) )"
   ]
  },
  {
   "cell_type": "markdown",
   "id": "842200a4",
   "metadata": {},
   "source": [
    "**Evaluating my model, I know that the percentage of varation that is explained by my model is about 40%. This is a good start. Going forward, I would also use the primaryname for each title as well as the director who filmed each title for my next attempt.**"
   ]
  }
 ],
 "metadata": {
  "kernelspec": {
   "display_name": "Python 3 (ipykernel)",
   "language": "python",
   "name": "python3"
  },
  "language_info": {
   "codemirror_mode": {
    "name": "ipython",
    "version": 3
   },
   "file_extension": ".py",
   "mimetype": "text/x-python",
   "name": "python",
   "nbconvert_exporter": "python",
   "pygments_lexer": "ipython3",
   "version": "3.10.8"
  }
 },
 "nbformat": 4,
 "nbformat_minor": 5
}
