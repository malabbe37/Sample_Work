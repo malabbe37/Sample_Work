{
 "cells": [
  {
   "cell_type": "markdown",
   "metadata": {},
   "source": [
    "# Week 1 HW - Using Base Python to Analyze Data\n",
    "<span  style=\"color:purple; font-size:20px\">\n",
    "Systems & Technologies: Python  \n",
    "Week 1\n",
    "</span>\n"
   ]
  },
  {
   "cell_type": "markdown",
   "metadata": {},
   "source": [
    "We covered a lot of the basics of the Python programming language. Mastering the fundamentals of Python will equip you for more advanced data analysis libraries like the *Pandas* library.\n",
    "\n",
    "The goal of this capstone activity is to start thinking about data analysis related tasks only using base Python. You will get practice using various data types, data structures, conditionals, and loops, and gain more experience writing functions."
   ]
  },
  {
   "cell_type": "markdown",
   "metadata": {},
   "source": [
    "## Clinical Trials - Sheep\n",
    "\n",
    "While working for a pharmaceutical company that specializes in medications for agriculture you were assigned to work on a project assessing the effectiveness of a new drug designed to treat tapeworms in sheep. (If the sheep have tapeworms they can't get as fat as they need to be at slaughter and it is a waste of feed.) \n",
    "\n",
    "To investigate you obtain a random sample of 25 worm-infected lambs of approximately the same age and health. Then you randomly divided the lambs into two groups. Twelve of the lambs were injected with the drug and the remaining thirteen were left untreated. After 6 months, the lambs were slaughtered and the number of worms were counted. You need to report to your boss whether the new medication has reduced the average number of tapeworms in the lambs. If so, how much?\n",
    "\n",
    "<pre>\n",
    "Treated: 18, 43, 28, 50, 16, 32, 13, 35, 38, 33, 6, 7\n",
    "Untreated: 40, 54, 26, 63, 21, 37, 39, 23, 48, 58, 28, 39, 42\n",
    "</pre>"
   ]
  },
  {
   "cell_type": "markdown",
   "metadata": {},
   "source": [
    "### Exercise 1: (5 points)\n",
    "\n",
    "<span  style=\"color:purple; font-size:16px\">Create two lists (*treated* and *untreated*) containing the data above</span>"
   ]
  },
  {
   "cell_type": "code",
   "execution_count": 48,
   "metadata": {},
   "outputs": [
    {
     "data": {
      "text/plain": [
       "[21, 23, 26, 28, 37, 39, 39, 40, 42, 48, 54, 58, 63]"
      ]
     },
     "execution_count": 48,
     "metadata": {},
     "output_type": "execute_result"
    }
   ],
   "source": [
    "## Exercise Answer\n",
    "treated = [18, 43, 28, 50, 16, 32, 13, 35, 38, 33, 6, 7]\n",
    "untreated = [40, 54, 26, 63, 21, 37, 39, 23, 48, 58, 28, 39, 42]\n",
    "sorted(untreated)"
   ]
  },
  {
   "cell_type": "markdown",
   "metadata": {},
   "source": [
    "### Exercise 2: (5 points)\n",
    "<span  style=\"color:purple; font-size:16px\">Use an appropriate method to print the number of elements in each list (*treated* and *untreated*). Use fstrings to nicely print the output as a complete sentence.  For example, your final output should be something similar to:\n",
    "\n",
    "    'In the treated sheep group, there were 12 sheep. In the untreated sheep group, there were 13 sheep.'\n",
    "</span>\n",
    "\n"
   ]
  },
  {
   "cell_type": "code",
   "execution_count": 4,
   "metadata": {},
   "outputs": [
    {
     "name": "stdout",
     "output_type": "stream",
     "text": [
      "In the treated sheep group, there were 12 sheep. In the untreated sheep group, there were 13 sheep.\n"
     ]
    }
   ],
   "source": [
    "## Exercise Answer\n",
    "print(f'In the treated sheep group, there were {len(treated)} sheep. In the untreated sheep group, there were {len(untreated)} sheep.')\n"
   ]
  },
  {
   "cell_type": "markdown",
   "metadata": {},
   "source": [
    "### Exercise 3: (10 points)\n",
    "<span  style=\"color:purple; font-size:16px\">Your colleague was asked to create a sorted copy of the *treated* list, called *trt_sorted* that DOES NOT modify the order in *treated*.  Her code is below and it is not working as expected.  </span>\n",
    "\n",
    "<div  style=\"color:purple; font-size:16px\">Part A (5 pts) Correct her mistake </div>\n",
    "    <div  style=\"color:purple; font-size:16px\">Part B (5 pts) Explain to her why it occured.</div>"
   ]
  },
  {
   "cell_type": "code",
   "execution_count": 5,
   "metadata": {},
   "outputs": [
    {
     "name": "stdout",
     "output_type": "stream",
     "text": [
      "[6, 7, 13, 16, 18, 28, 32, 33, 35, 38, 43, 50]\n",
      "[6, 7, 13, 16, 18, 28, 32, 33, 35, 38, 43, 50]\n"
     ]
    }
   ],
   "source": [
    "## Debug the following code\n",
    "treated = [18, 43, 28, 50, 16, 32, 13, 35, 38, 33, 6, 7]\n",
    "trt_sorted = treated\n",
    "trt_sorted.sort()\n",
    "\n",
    "# Why did both sort????!?\n",
    "print(treated)\n",
    "print(trt_sorted)"
   ]
  },
  {
   "cell_type": "code",
   "execution_count": 6,
   "metadata": {},
   "outputs": [
    {
     "name": "stdout",
     "output_type": "stream",
     "text": [
      "[18, 43, 28, 50, 16, 32, 13, 35, 38, 33, 6, 7]\n",
      "[6, 7, 13, 16, 18, 28, 32, 33, 35, 38, 43, 50]\n"
     ]
    }
   ],
   "source": [
    "## Your Answer (Part A)\n",
    "treated = [18, 43, 28, 50, 16, 32, 13, 35, 38, 33, 6, 7]\n",
    "trt_sorted = sorted(treated)\n",
    "\n",
    "print(treated)\n",
    "print(trt_sorted) "
   ]
  },
  {
   "cell_type": "markdown",
   "metadata": {},
   "source": [
    "*Your Answer (Part B)*\n",
    "\n",
    "Using the list.sort() function modifies the original list, thus creating two sorted lists. To keep from modifying \n",
    "the orginal list, use the sorted() function instead."
   ]
  },
  {
   "cell_type": "markdown",
   "metadata": {},
   "source": [
    "### Exercise 4: (5 points)\n",
    "<span  style=\"color:purple; font-size:16px\">Create a function called `get_nlargest()` that takes in a list as input, and an optional parameter *num* indicating how many values to return but with a default value of 3. The function should then return the *num* largest values from the list. Apply this function to *treated* with num = 4 and *untreated* with the default value and print the outputs.  Ensure your function does not modify the list that you pass into it.</span>"
   ]
  },
  {
   "cell_type": "code",
   "execution_count": 7,
   "metadata": {},
   "outputs": [
    {
     "data": {
      "text/plain": [
       "[63, 58, 54]"
      ]
     },
     "execution_count": 7,
     "metadata": {},
     "output_type": "execute_result"
    }
   ],
   "source": [
    "## Exercise Answer\n",
    "def get_nlargest(lists, num = 3):\n",
    "    return sorted(lists, reverse = True)[0:num]\n",
    "\n",
    "get_nlargest(treated, 4)\n",
    "get_nlargest(untreated)"
   ]
  },
  {
   "cell_type": "markdown",
   "metadata": {},
   "source": [
    "### Exercise 5: (10 points)\n",
    "<span  style=\"color:purple; font-size:16px\">Create a function `get_mean()` to calculate the mean of a list input called *num_list* and return the mean. Use this function to calculate the average number of tapeworms for each group. Use fstrings and the round function to nicely print the output as a complete sentence. Use two decimal places.</span>\n",
    "\n",
    "<span  style=\"color:purple; font-size:16px\">Your nicely printed output should look simliar to:\n",
    "* The average number of tapeworms for sheep in the treated group was 26.58\n",
    "* The average number of tapeworms for sheep in the untreated group was 39.85"
   ]
  },
  {
   "cell_type": "code",
   "execution_count": 8,
   "metadata": {},
   "outputs": [
    {
     "name": "stdout",
     "output_type": "stream",
     "text": [
      "The average number of tapeworms for sheep in the treated group was 26.58 \n",
      "The average number of tapeworms for sheep in the untreated group was 39.85\n"
     ]
    }
   ],
   "source": [
    "## Exercise Answer\n",
    "def get_mean(num_list):\n",
    "    return sum(num_list)/len(num_list)\n",
    "\n",
    "print(f'The average number of tapeworms for sheep in the treated group was {round(get_mean(treated), 2)} \\nThe average number of tapeworms for sheep in the untreated group was {round(get_mean(untreated), 2)}')"
   ]
  },
  {
   "cell_type": "markdown",
   "metadata": {},
   "source": [
    "### Exercise 6: (15 points)\n",
    "<span  style=\"color:purple; font-size:16px\">Create a function `get_std()` to calculate the standard deviation in number of tapeworms for each group. The function should have a single parameter called *num_list* and return the standard deviation. This function will require the import of the math package to add the ability to calculate a square root (`math.sqrt()`).</span>\n",
    "\n",
    "The sample standard deviation $s$ of a list of numbers $x_1, x_2, x_3, ..., x_n$ with sample mean $\\bar{x}$ is defined to be:\n",
    "\n",
    "$s =  \\sqrt{\\sum_{i=1}^{n}\\frac{({x_i - \\bar{x})^2}}{n-1}}$"
   ]
  },
  {
   "cell_type": "code",
   "execution_count": 9,
   "metadata": {},
   "outputs": [
    {
     "name": "stdout",
     "output_type": "stream",
     "text": [
      "The standard deviation of tapeworms for sheep in the treated group was 14.127 \n",
      "The standard deviation of tapeworms for sheep in the untreated group was 13.284\n"
     ]
    }
   ],
   "source": [
    "## Exercise Answer\n",
    "import math\n",
    "def get_std(num_list):\n",
    "    num_list2 = []\n",
    "    i = 1\n",
    "    while i < len(num_list):\n",
    "        num_list2.append((num_list[i] - (sum(num_list)/len(num_list)))**2)\n",
    "        i += 1\n",
    "    return math.sqrt(sum(num_list2) / (len(num_list)-1))\n",
    "\n",
    "print(f'The standard deviation of tapeworms for sheep in the treated group was {round(get_std(treated), 3)} \\nThe standard deviation of tapeworms for sheep in the untreated group was {round(get_std(untreated), 3)}')"
   ]
  },
  {
   "cell_type": "markdown",
   "metadata": {},
   "source": [
    "### Exercise 7: (10 points)\n",
    "<span  style=\"color:purple; font-size:16px\">Create a function called get_max_min() that takes a single list as input and returns a tuple with the first element being the minimum and the second element being the maximum. Apply this function to treated and untreated. Add a default parameter pretty_print that is by default set to False but if True prints out a complete sentence with min and max as shown below. Note, if you have a list of numbers, max(list) will return the maximum value and min(list) will return the minimum value of the list.</span>\n",
    "\n",
    "<span  style=\"color:purple; font-size:16px\">**Note, if you have a list of numbers, `max(list)` will return the maximum value and `min(list)` will return the minimum value of the list.**</span>\n",
    "\n",
    "---\n",
    "\n",
    "Test Input:\n",
    "\n",
    "<pre>\n",
    "get_min_max(treated, pretty_print = True)\n",
    "</pre>\n",
    "\n",
    "Example output:\n",
    "\n",
    "<pre>\n",
    "The minimum is 6 and the maximum is 50\n",
    "(6, 50)\n",
    "</pre>"
   ]
  },
  {
   "cell_type": "code",
   "execution_count": 26,
   "metadata": {},
   "outputs": [
    {
     "data": {
      "text/plain": [
       "(21, 63)"
      ]
     },
     "execution_count": 26,
     "metadata": {},
     "output_type": "execute_result"
    }
   ],
   "source": [
    "## Exercise Answer\n",
    "def get_min_max(num_list, pretty_print=False):   \n",
    "    if(pretty_print == True):\n",
    "        return f'The minimum is {min(num_list)}, and the maximum is {max(num_list)}'\n",
    "    else:\n",
    "        list1 = min(num_list), max(num_list)\n",
    "        return tuple(list1)\n",
    "\n",
    "get_min_max(treated, pretty_print = True)\n",
    "get_min_max(untreated)"
   ]
  },
  {
   "cell_type": "markdown",
   "metadata": {},
   "source": [
    "### Exercise 8: (10 points)\n",
    "<span  style=\"color:purple; font-size:16px\">Create a function to calculate the median of a list. The function should have a single parameter called *input_list* and return a single float. However, the calculation of the median is slightly different depending if there are an even number of elements in the list or not. If there are an odd number of elements in the list, then the median is the middle number. If there are an even number of elements in the list, then the median is the average of the middle two numbers. Use this function to calculate the median number of tapeworms for each group (*treated* and *untreated*).</span>"
   ]
  },
  {
   "cell_type": "code",
   "execution_count": 59,
   "metadata": {},
   "outputs": [
    {
     "data": {
      "text/plain": [
       "39"
      ]
     },
     "execution_count": 59,
     "metadata": {},
     "output_type": "execute_result"
    }
   ],
   "source": [
    "## Exercise Answer\n",
    "def get_median(input_list):\n",
    "    if(len(input_list)%2 == 1):\n",
    "        return sorted(input_list)[(len(input_list)) // 2]\n",
    "    else:\n",
    "        return (sorted(input_list)[(len(input_list) - 1) // 2] + (sorted(input_list)[((len(input_list) - 1) // 2) + 1])) / 2\n",
    "        \n",
    "get_median(treated)\n",
    "get_median(untreated)"
   ]
  },
  {
   "cell_type": "markdown",
   "metadata": {},
   "source": [
    "### Exercise 9: (10 points)\n",
    "<span  style=\"color:purple; font-size:16px\">Create a function called `get_quartiles()` to calculate the first and third quartiles of a list. The function should accept a list called *num_list* and return a tuple with (Q1, Q3) and apply this function to *treated* and *untreated*. Add a default parameter *pretty_print* that is by default set to `False` but if `True` prints out a complete sentence with Q1 and Q3.</span>\n",
    "\n",
    "To calculate the quartiles, use the following algorithm:\n",
    "\n",
    "1. Use the median to divide the ordered data set into two halves.\n",
    "    + If there are an odd number of data points in the original ordered data set, include the median (the central value in the ordered list) in both halves.\n",
    "    + If there are an even number of data points in the original ordered data set, split this data set exactly in half.\n",
    "1. The lower quartile value is the median of the lower half of the data. The upper quartile value is the median of the upper half of the data."
   ]
  },
  {
   "cell_type": "code",
   "execution_count": 69,
   "metadata": {},
   "outputs": [
    {
     "data": {
      "text/plain": [
       "'The first quartile is 14.5, and the third quartile is 36.5'"
      ]
     },
     "execution_count": 69,
     "metadata": {},
     "output_type": "execute_result"
    }
   ],
   "source": [
    "## Exercise Answer\n",
    "def get_quartiles(input_list, pretty_print = False):\n",
    "    if(len(input_list)%2 == 1):\n",
    "        middle_place_value = (len(input_list)) // 2\n",
    "        first_half = sorted(input_list)[0:middle_place_value+1]\n",
    "        second_half = sorted(input_list)[middle_place_value+1:len(input_list)-1]\n",
    "        first_quartile = get_median(first_half)\n",
    "        third_quartile = get_median(second_half)\n",
    "        if(pretty_print == True):\n",
    "            return f'The first quartile is {first_quartile}, and the third quartile is {third_quartile}'\n",
    "        else:\n",
    "            list1 = first_quartile, third_quartile\n",
    "            return tuple(list1)\n",
    "    else:\n",
    "        middle_place_value = (len(input_list)) // 2\n",
    "        first_half = sorted(input_list)[0:middle_place_value]\n",
    "        second_half = sorted(input_list)[middle_place_value+1:len(input_list)-1]\n",
    "        first_quartile = get_median(first_half)\n",
    "        third_quartile = get_median(second_half)\n",
    "        if(pretty_print == True):\n",
    "            return f'The first quartile is {first_quartile}, and the third quartile is {third_quartile}'\n",
    "        else:\n",
    "            list1 = first_quartile, third_quartile\n",
    "            return tuple(list1)\n"
   ]
  },
  {
   "cell_type": "code",
   "execution_count": 70,
   "metadata": {},
   "outputs": [
    {
     "data": {
      "text/plain": [
       "(28, 48)"
      ]
     },
     "execution_count": 70,
     "metadata": {},
     "output_type": "execute_result"
    }
   ],
   "source": [
    "# Test\n",
    "get_quartiles(treated, pretty_print = True)\n",
    "get_quartiles(untreated)"
   ]
  },
  {
   "cell_type": "code",
   "execution_count": 71,
   "metadata": {},
   "outputs": [
    {
     "data": {
      "text/plain": [
       "(14.5, 36.5)"
      ]
     },
     "execution_count": 71,
     "metadata": {},
     "output_type": "execute_result"
    }
   ],
   "source": [
    "## Exercise Answer\n",
    "get_quartiles(untreated, pretty_print = True)\n",
    "get_quartiles(treated)"
   ]
  },
  {
   "cell_type": "markdown",
   "metadata": {},
   "source": [
    "### Exercise 10: (5 points)\n",
    "<span  style=\"color:purple; font-size:16px\">Create a dictionary called 'data_dict' containing the sheep experiment data. Use the string literals 'treated' and 'untreated' as the **keys** and use the lists, *treated* and *untreated*, created in Exercise 1 as the **values**.</span>"
   ]
  },
  {
   "cell_type": "code",
   "execution_count": 73,
   "metadata": {},
   "outputs": [
    {
     "data": {
      "text/plain": [
       "{'treated': [18, 43, 28, 50, 16, 32, 13, 35, 38, 33, 6, 7],\n",
       " 'untreated': [40, 54, 26, 63, 21, 37, 39, 23, 48, 58, 28, 39, 42]}"
      ]
     },
     "execution_count": 73,
     "metadata": {},
     "output_type": "execute_result"
    }
   ],
   "source": [
    "## Exercise Answer\n",
    "\n",
    "data_dict = {\n",
    "    'treated': treated,\n",
    "    'untreated': untreated\n",
    "}\n",
    "data_dict"
   ]
  },
  {
   "cell_type": "markdown",
   "metadata": {},
   "source": [
    "### Exercise 11: (15 points)\n",
    "<span  style=\"color:purple; font-size:16px\">Create a modified version of *get_mean()* function called *get_mean_dict()* that takes a dictionary and iterates over the keys and calculates the mean of the values. Have the function return a dictionary with the same keys as the input dictionary but with the values being the mean of the values of the input dictionary.</span>\n",
    "\n",
    "For example, if the input would be something like: \n",
    "\n",
    "<pre>\n",
    "{'treated': [6, 7, 13, 16, 18, 28, 32, 33, 35, 38, 43, 50],\n",
    "'untreated': [21, 23, 26, 28, 37, 39, 39, 40, 42, 48, 54, 58, 63]}\n",
    "</pre>\n",
    "\n",
    "\n",
    "The output would be something like: \n",
    "\n",
    "<pre>\n",
    "{'treated': 26.583333333333332, 'untreated': 39.84615384615385}"
   ]
  },
  {
   "cell_type": "code",
   "execution_count": 88,
   "metadata": {},
   "outputs": [
    {
     "name": "stdout",
     "output_type": "stream",
     "text": [
      "treated [18, 43, 28, 50, 16, 32, 13, 35, 38, 33, 6, 7]\n",
      "untreated [40, 54, 26, 63, 21, 37, 39, 23, 48, 58, 28, 39, 42]\n"
     ]
    },
    {
     "data": {
      "text/plain": [
       "{'treated': 26.583333333333332, 'untreated': 39.84615384615385}"
      ]
     },
     "execution_count": 88,
     "metadata": {},
     "output_type": "execute_result"
    }
   ],
   "source": [
    "## Exercise Answer\n",
    "def get_mean_dict(dictionary):\n",
    "    dictionary1 = {}\n",
    "    for key, value in dictionary.items():\n",
    "        print(key, value)\n",
    "        dictionary1[key] = sum(value)/len(value)\n",
    "    return dictionary1\n",
    "\n",
    "get_mean_dict(data_dict)"
   ]
  }
 ],
 "metadata": {
  "kernelspec": {
   "display_name": "Python 3 (ipykernel)",
   "language": "python",
   "name": "python3"
  },
  "language_info": {
   "codemirror_mode": {
    "name": "ipython",
    "version": 3
   },
   "file_extension": ".py",
   "mimetype": "text/x-python",
   "name": "python",
   "nbconvert_exporter": "python",
   "pygments_lexer": "ipython3",
   "version": "3.10.8"
  },
  "toc": {
   "base_numbering": 1,
   "nav_menu": {},
   "number_sections": false,
   "sideBar": false,
   "skip_h1_title": false,
   "title_cell": "Table of Contents",
   "title_sidebar": "Contents",
   "toc_cell": false,
   "toc_position": {},
   "toc_section_display": false,
   "toc_window_display": false
  }
 },
 "nbformat": 4,
 "nbformat_minor": 2
}
