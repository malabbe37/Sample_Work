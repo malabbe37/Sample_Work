{
 "cells": [
  {
   "cell_type": "markdown",
   "metadata": {},
   "source": [
    "# Week 3 HW - Tables, Groupby, Distributions\n",
    "<span  style=\"color:purple; font-size:20px\">\n",
    "Systems & Technologies: Python  \n",
    "Week 3\n",
    "</span>\n",
    "\n",
    "# `tips`\n",
    "\n",
    "Food servers' tips in restaurants may be influenced by many factors, including the nature of the restaurant, size of the party, and table locations in the restaurant. Restaurant managers need to know which factors matter when they assign tables to food servers. For the sake of staff morale, they usually want to avoid either the substance or the appearance of unfair treatment of the servers, for whom tips (at least in restaurants in the United States) are a major component of pay.\n",
    "\n",
    "In one restaurant, a food server recorded the following data on all customers they served during an interval of two and a half months in early 1990. The restaurant, located in a suburban shopping mall, was part of a national chain and served a varied menu. In observance of local law the restaurant offered seating in a non-smoking section to patrons who requested it. Each record includes a day and time, and taken together, they show the server’s work schedule\n",
    "\n",
    "|Variable Name | Variable Meaning |\n",
    "|---  |---                 |\n",
    "| total_bill | Total bill (cost of the meal), including tax, in US dollars |\n",
    "| tip | Tip (gratuity) in US dollars |\n",
    "| sex | Sex of person paying for the meal (0=male, 1=female) |\n",
    "| smoker | Smoker in party? (0=No, 1=Yes) |\n",
    "| day | Day of Week (4=Thur, 5=Fri, 6=Sat, 7=Sun) |\n",
    "| time | Dinner, Lunch |\n",
    "|size  | Size of the party |"
   ]
  },
  {
   "cell_type": "code",
   "execution_count": 5,
   "metadata": {},
   "outputs": [
    {
     "data": {
      "text/html": [
       "<div>\n",
       "<style scoped>\n",
       "    .dataframe tbody tr th:only-of-type {\n",
       "        vertical-align: middle;\n",
       "    }\n",
       "\n",
       "    .dataframe tbody tr th {\n",
       "        vertical-align: top;\n",
       "    }\n",
       "\n",
       "    .dataframe thead th {\n",
       "        text-align: right;\n",
       "    }\n",
       "</style>\n",
       "<table border=\"1\" class=\"dataframe\">\n",
       "  <thead>\n",
       "    <tr style=\"text-align: right;\">\n",
       "      <th></th>\n",
       "      <th>total_bill</th>\n",
       "      <th>tip</th>\n",
       "      <th>sex</th>\n",
       "      <th>smoker</th>\n",
       "      <th>day</th>\n",
       "      <th>time</th>\n",
       "      <th>size</th>\n",
       "      <th>tip_percent</th>\n",
       "    </tr>\n",
       "  </thead>\n",
       "  <tbody>\n",
       "    <tr>\n",
       "      <th>0</th>\n",
       "      <td>16.99</td>\n",
       "      <td>1.01</td>\n",
       "      <td>Male</td>\n",
       "      <td>No</td>\n",
       "      <td>Sun</td>\n",
       "      <td>Dinner</td>\n",
       "      <td>2</td>\n",
       "      <td>0.059447</td>\n",
       "    </tr>\n",
       "    <tr>\n",
       "      <th>1</th>\n",
       "      <td>10.34</td>\n",
       "      <td>1.66</td>\n",
       "      <td>Female</td>\n",
       "      <td>No</td>\n",
       "      <td>Sun</td>\n",
       "      <td>Dinner</td>\n",
       "      <td>3</td>\n",
       "      <td>0.160542</td>\n",
       "    </tr>\n",
       "    <tr>\n",
       "      <th>2</th>\n",
       "      <td>21.01</td>\n",
       "      <td>3.50</td>\n",
       "      <td>Female</td>\n",
       "      <td>No</td>\n",
       "      <td>Sun</td>\n",
       "      <td>Dinner</td>\n",
       "      <td>3</td>\n",
       "      <td>0.166587</td>\n",
       "    </tr>\n",
       "    <tr>\n",
       "      <th>3</th>\n",
       "      <td>23.68</td>\n",
       "      <td>3.31</td>\n",
       "      <td>Female</td>\n",
       "      <td>No</td>\n",
       "      <td>Sun</td>\n",
       "      <td>Dinner</td>\n",
       "      <td>2</td>\n",
       "      <td>0.139780</td>\n",
       "    </tr>\n",
       "    <tr>\n",
       "      <th>4</th>\n",
       "      <td>24.59</td>\n",
       "      <td>3.61</td>\n",
       "      <td>Male</td>\n",
       "      <td>No</td>\n",
       "      <td>Sun</td>\n",
       "      <td>Dinner</td>\n",
       "      <td>4</td>\n",
       "      <td>0.146808</td>\n",
       "    </tr>\n",
       "  </tbody>\n",
       "</table>\n",
       "</div>"
      ],
      "text/plain": [
       "   total_bill   tip     sex smoker  day    time  size  tip_percent\n",
       "0       16.99  1.01    Male     No  Sun  Dinner     2     0.059447\n",
       "1       10.34  1.66  Female     No  Sun  Dinner     3     0.160542\n",
       "2       21.01  3.50  Female     No  Sun  Dinner     3     0.166587\n",
       "3       23.68  3.31  Female     No  Sun  Dinner     2     0.139780\n",
       "4       24.59  3.61    Male     No  Sun  Dinner     4     0.146808"
      ]
     },
     "execution_count": 5,
     "metadata": {},
     "output_type": "execute_result"
    }
   ],
   "source": [
    "# Import necessary libraries, and modify DataFrame for convenience\n",
    "import pandas as pd\n",
    "\n",
    "tips = pd.read_csv(r'C:/Users/malab/OneDrive/Documents/Systems and Technologies; Python/ST-Python 64502/ST-Python 64502/notebooks/data-sets/tips.csv')\n",
    "tips['day'].replace({4:'Thur', 5:'Fri', 6:'Sat', 7:'Sun'}, inplace = True)\n",
    "tips['smoker'].replace({0:'No', 1:'Yes'}, inplace = True)\n",
    "tips['sex'].replace({0:'Male', 1:'Female'}, inplace = True)\n",
    "tips['tip_percent'] = tips['tip'] / tips['total_bill']\n",
    "tips.head()"
   ]
  },
  {
   "cell_type": "markdown",
   "metadata": {},
   "source": [
    "### Exercise 1: (5 points)\n",
    "<span  style=\"color:purple; font-size:16px\">On which day of the week does the waiter serve the largest parties, on average? There are several ways to answer this question. Try to find at least two different solutions.</span>\n"
   ]
  },
  {
   "cell_type": "code",
   "execution_count": 10,
   "metadata": {},
   "outputs": [
    {
     "data": {
      "text/html": [
       "<div>\n",
       "<style scoped>\n",
       "    .dataframe tbody tr th:only-of-type {\n",
       "        vertical-align: middle;\n",
       "    }\n",
       "\n",
       "    .dataframe tbody tr th {\n",
       "        vertical-align: top;\n",
       "    }\n",
       "\n",
       "    .dataframe thead th {\n",
       "        text-align: right;\n",
       "    }\n",
       "</style>\n",
       "<table border=\"1\" class=\"dataframe\">\n",
       "  <thead>\n",
       "    <tr style=\"text-align: right;\">\n",
       "      <th></th>\n",
       "      <th>size</th>\n",
       "    </tr>\n",
       "    <tr>\n",
       "      <th>day</th>\n",
       "      <th></th>\n",
       "    </tr>\n",
       "  </thead>\n",
       "  <tbody>\n",
       "    <tr>\n",
       "      <th>Fri</th>\n",
       "      <td>2.105263</td>\n",
       "    </tr>\n",
       "    <tr>\n",
       "      <th>Sat</th>\n",
       "      <td>2.517241</td>\n",
       "    </tr>\n",
       "    <tr>\n",
       "      <th>Sun</th>\n",
       "      <td>2.842105</td>\n",
       "    </tr>\n",
       "    <tr>\n",
       "      <th>Thur</th>\n",
       "      <td>2.451613</td>\n",
       "    </tr>\n",
       "  </tbody>\n",
       "</table>\n",
       "</div>"
      ],
      "text/plain": [
       "          size\n",
       "day           \n",
       "Fri   2.105263\n",
       "Sat   2.517241\n",
       "Sun   2.842105\n",
       "Thur  2.451613"
      ]
     },
     "execution_count": 10,
     "metadata": {},
     "output_type": "execute_result"
    }
   ],
   "source": [
    "# Answer\n",
    "averages = tips.groupby('day')['size'].mean().sort_values()\n",
    "averages\n",
    "\n",
    "averages2 = tips.groupby('day').agg({'size': 'mean'})\n",
    "averages2"
   ]
  },
  {
   "cell_type": "markdown",
   "metadata": {},
   "source": [
    "### Exercise 2: (5 points)\n",
    "<span  style=\"color:purple; font-size:16px\">Calculate the average bill by day and time and round to 1 decimal place. What day-time combination has the highest average bill? What day-time combination has the lowest average bill?</span>\n"
   ]
  },
  {
   "cell_type": "code",
   "execution_count": 13,
   "metadata": {},
   "outputs": [
    {
     "data": {
      "text/html": [
       "<div>\n",
       "<style scoped>\n",
       "    .dataframe tbody tr th:only-of-type {\n",
       "        vertical-align: middle;\n",
       "    }\n",
       "\n",
       "    .dataframe tbody tr th {\n",
       "        vertical-align: top;\n",
       "    }\n",
       "\n",
       "    .dataframe thead th {\n",
       "        text-align: right;\n",
       "    }\n",
       "</style>\n",
       "<table border=\"1\" class=\"dataframe\">\n",
       "  <thead>\n",
       "    <tr style=\"text-align: right;\">\n",
       "      <th></th>\n",
       "      <th></th>\n",
       "      <th>total_bill</th>\n",
       "    </tr>\n",
       "    <tr>\n",
       "      <th>day</th>\n",
       "      <th>time</th>\n",
       "      <th></th>\n",
       "    </tr>\n",
       "  </thead>\n",
       "  <tbody>\n",
       "    <tr>\n",
       "      <th rowspan=\"2\" valign=\"top\">Fri</th>\n",
       "      <th>Dinner</th>\n",
       "      <td>19.7</td>\n",
       "    </tr>\n",
       "    <tr>\n",
       "      <th>Lunch</th>\n",
       "      <td>12.8</td>\n",
       "    </tr>\n",
       "    <tr>\n",
       "      <th>Sat</th>\n",
       "      <th>Dinner</th>\n",
       "      <td>20.4</td>\n",
       "    </tr>\n",
       "    <tr>\n",
       "      <th>Sun</th>\n",
       "      <th>Dinner</th>\n",
       "      <td>21.4</td>\n",
       "    </tr>\n",
       "    <tr>\n",
       "      <th rowspan=\"2\" valign=\"top\">Thur</th>\n",
       "      <th>Dinner</th>\n",
       "      <td>18.8</td>\n",
       "    </tr>\n",
       "    <tr>\n",
       "      <th>Lunch</th>\n",
       "      <td>17.7</td>\n",
       "    </tr>\n",
       "  </tbody>\n",
       "</table>\n",
       "</div>"
      ],
      "text/plain": [
       "             total_bill\n",
       "day  time              \n",
       "Fri  Dinner        19.7\n",
       "     Lunch         12.8\n",
       "Sat  Dinner        20.4\n",
       "Sun  Dinner        21.4\n",
       "Thur Dinner        18.8\n",
       "     Lunch         17.7"
      ]
     },
     "execution_count": 13,
     "metadata": {},
     "output_type": "execute_result"
    }
   ],
   "source": [
    "# Answer\n",
    "day_and_time = tips.groupby(['day', 'time']).agg({'total_bill':'mean'}).round(1)\n",
    "day_and_time\n",
    "# Dinner on Sunday night, on average, had the highest bill. Lunch on Friday, on average, \n",
    "# had the lowest bill. "
   ]
  },
  {
   "cell_type": "markdown",
   "metadata": {},
   "source": [
    "### Exercise 3: (5 points)\n",
    "<span  style=\"color:purple; font-size:16px\">Extract the average bill for Friday lunch from the result of Exercise 2.</span>"
   ]
  },
  {
   "cell_type": "code",
   "execution_count": 14,
   "metadata": {},
   "outputs": [
    {
     "data": {
      "text/plain": [
       "total_bill    12.8\n",
       "Name: (Fri, Lunch), dtype: float64"
      ]
     },
     "execution_count": 14,
     "metadata": {},
     "output_type": "execute_result"
    }
   ],
   "source": [
    "# Answer\n",
    "day_and_time.loc['Fri', 'Lunch']\n"
   ]
  },
  {
   "cell_type": "markdown",
   "metadata": {},
   "source": [
    "### Exercise 4: (5 points)\n",
    "<span  style=\"color:purple; font-size:16px\">Use `.groupby()` to make a visualization comparing the distribution of tip percentages left by males and females. How do they compare?</span>"
   ]
  },
  {
   "cell_type": "code",
   "execution_count": 23,
   "metadata": {},
   "outputs": [
    {
     "data": {
      "text/plain": [
       "<AxesSubplot: xlabel='sex'>"
      ]
     },
     "execution_count": 23,
     "metadata": {},
     "output_type": "execute_result"
    },
    {
     "data": {
      "image/png": "[encoded data removed]",
      "text/plain": [
       "<Figure size 640x480 with 1 Axes>"
      ]
     },
     "metadata": {},
     "output_type": "display_data"
    }
   ],
   "source": [
    "# Answer\n",
    "\n",
    "tips.groupby('sex')['tip_percent'].mean().plot(kind = 'bar')\n",
    "# The distribution of tip percentages shows that males, on average, leave a larger tip \n",
    "# than females."
   ]
  },
  {
   "cell_type": "markdown",
   "metadata": {},
   "source": [
    "### Exercise 5: (10 points)\n",
    "<span  style=\"color:purple; font-size:16px\">Make a visualization that shows the average tip percentage as a function of table size. Describe the relationship between party size and average tip percentage?</span>"
   ]
  },
  {
   "cell_type": "code",
   "execution_count": 24,
   "metadata": {},
   "outputs": [
    {
     "data": {
      "text/plain": [
       "<AxesSubplot: xlabel='size'>"
      ]
     },
     "execution_count": 24,
     "metadata": {},
     "output_type": "execute_result"
    },
    {
     "data": {
      "image/png": "[encoded data removed]",
      "text/plain": [
       "<Figure size 640x480 with 1 Axes>"
      ]
     },
     "metadata": {},
     "output_type": "display_data"
    }
   ],
   "source": [
    "# Answer\n",
    "\n",
    "tips.groupby('size')['tip_percent'].mean().plot(kind = 'bar')\n",
    "# Tip percentages tend to go down as the party size increases with the exceptional \n",
    "# case where the party is 6."
   ]
  },
  {
   "cell_type": "markdown",
   "metadata": {},
   "source": [
    "### Exercise 6: (5 points)\n",
    "<span  style=\"color:purple; font-size:16px\">Calculate the average total bill by day, time, and party size. Display the results in a pivot table.</span>"
   ]
  },
  {
   "cell_type": "code",
   "execution_count": 65,
   "metadata": {},
   "outputs": [
    {
     "data": {
      "text/html": [
       "<div>\n",
       "<style scoped>\n",
       "    .dataframe tbody tr th:only-of-type {\n",
       "        vertical-align: middle;\n",
       "    }\n",
       "\n",
       "    .dataframe tbody tr th {\n",
       "        vertical-align: top;\n",
       "    }\n",
       "\n",
       "    .dataframe thead tr th {\n",
       "        text-align: left;\n",
       "    }\n",
       "\n",
       "    .dataframe thead tr:last-of-type th {\n",
       "        text-align: right;\n",
       "    }\n",
       "</style>\n",
       "<table border=\"1\" class=\"dataframe\">\n",
       "  <thead>\n",
       "    <tr>\n",
       "      <th>size</th>\n",
       "      <th colspan=\"2\" halign=\"left\">1</th>\n",
       "      <th colspan=\"2\" halign=\"left\">2</th>\n",
       "      <th colspan=\"2\" halign=\"left\">3</th>\n",
       "      <th colspan=\"2\" halign=\"left\">4</th>\n",
       "      <th colspan=\"2\" halign=\"left\">5</th>\n",
       "      <th colspan=\"2\" halign=\"left\">6</th>\n",
       "    </tr>\n",
       "    <tr>\n",
       "      <th>time</th>\n",
       "      <th>Dinner</th>\n",
       "      <th>Lunch</th>\n",
       "      <th>Dinner</th>\n",
       "      <th>Lunch</th>\n",
       "      <th>Dinner</th>\n",
       "      <th>Lunch</th>\n",
       "      <th>Dinner</th>\n",
       "      <th>Lunch</th>\n",
       "      <th>Dinner</th>\n",
       "      <th>Lunch</th>\n",
       "      <th>Dinner</th>\n",
       "      <th>Lunch</th>\n",
       "    </tr>\n",
       "    <tr>\n",
       "      <th>day</th>\n",
       "      <th></th>\n",
       "      <th></th>\n",
       "      <th></th>\n",
       "      <th></th>\n",
       "      <th></th>\n",
       "      <th></th>\n",
       "      <th></th>\n",
       "      <th></th>\n",
       "      <th></th>\n",
       "      <th></th>\n",
       "      <th></th>\n",
       "      <th></th>\n",
       "    </tr>\n",
       "  </thead>\n",
       "  <tbody>\n",
       "    <tr>\n",
       "      <th>Fri</th>\n",
       "      <td>NaN</td>\n",
       "      <td>8.6</td>\n",
       "      <td>17.8</td>\n",
       "      <td>13.1</td>\n",
       "      <td>NaN</td>\n",
       "      <td>16.0</td>\n",
       "      <td>40.2</td>\n",
       "      <td>NaN</td>\n",
       "      <td>NaN</td>\n",
       "      <td>NaN</td>\n",
       "      <td>NaN</td>\n",
       "      <td>NaN</td>\n",
       "    </tr>\n",
       "    <tr>\n",
       "      <th>Sat</th>\n",
       "      <td>5.2</td>\n",
       "      <td>NaN</td>\n",
       "      <td>16.8</td>\n",
       "      <td>NaN</td>\n",
       "      <td>25.5</td>\n",
       "      <td>NaN</td>\n",
       "      <td>29.9</td>\n",
       "      <td>NaN</td>\n",
       "      <td>28.2</td>\n",
       "      <td>NaN</td>\n",
       "      <td>NaN</td>\n",
       "      <td>NaN</td>\n",
       "    </tr>\n",
       "    <tr>\n",
       "      <th>Sun</th>\n",
       "      <td>NaN</td>\n",
       "      <td>NaN</td>\n",
       "      <td>17.6</td>\n",
       "      <td>NaN</td>\n",
       "      <td>22.2</td>\n",
       "      <td>NaN</td>\n",
       "      <td>26.7</td>\n",
       "      <td>NaN</td>\n",
       "      <td>27.0</td>\n",
       "      <td>NaN</td>\n",
       "      <td>48.2</td>\n",
       "      <td>NaN</td>\n",
       "    </tr>\n",
       "    <tr>\n",
       "      <th>Thur</th>\n",
       "      <td>NaN</td>\n",
       "      <td>10.1</td>\n",
       "      <td>18.8</td>\n",
       "      <td>15.1</td>\n",
       "      <td>NaN</td>\n",
       "      <td>19.2</td>\n",
       "      <td>NaN</td>\n",
       "      <td>30.0</td>\n",
       "      <td>NaN</td>\n",
       "      <td>41.2</td>\n",
       "      <td>NaN</td>\n",
       "      <td>30.4</td>\n",
       "    </tr>\n",
       "  </tbody>\n",
       "</table>\n",
       "</div>"
      ],
      "text/plain": [
       "size      1            2            3            4            5            6  \\\n",
       "time Dinner Lunch Dinner Lunch Dinner Lunch Dinner Lunch Dinner Lunch Dinner   \n",
       "day                                                                            \n",
       "Fri     NaN   8.6   17.8  13.1    NaN  16.0   40.2   NaN    NaN   NaN    NaN   \n",
       "Sat     5.2   NaN   16.8   NaN   25.5   NaN   29.9   NaN   28.2   NaN    NaN   \n",
       "Sun     NaN   NaN   17.6   NaN   22.2   NaN   26.7   NaN   27.0   NaN   48.2   \n",
       "Thur    NaN  10.1   18.8  15.1    NaN  19.2    NaN  30.0    NaN  41.2    NaN   \n",
       "\n",
       "size        \n",
       "time Lunch  \n",
       "day         \n",
       "Fri    NaN  \n",
       "Sat    NaN  \n",
       "Sun    NaN  \n",
       "Thur  30.4  "
      ]
     },
     "execution_count": 65,
     "metadata": {},
     "output_type": "execute_result"
    }
   ],
   "source": [
    "# Answer\n",
    "tips.pivot_table(index = 'day',\n",
    "                 columns = ['size','time'],\n",
    "                   values = 'total_bill', \n",
    "                   aggfunc = 'mean').round(1)"
   ]
  },
  {
   "cell_type": "markdown",
   "metadata": {},
   "source": [
    "### Exercise 7: (5 points)\n",
    "<span  style=\"color:purple; font-size:16px\">Make a bar chart showing the average total bill by party size, day, and time. (Place party size on the $x$-axis)</span>"
   ]
  },
  {
   "cell_type": "code",
   "execution_count": 28,
   "metadata": {},
   "outputs": [
    {
     "data": {
      "text/plain": [
       "<AxesSubplot: xlabel='size'>"
      ]
     },
     "execution_count": 28,
     "metadata": {},
     "output_type": "execute_result"
    },
    {
     "data": {
      "image/png": "[encoded data removed]",
      "text/plain": [
       "<Figure size 640x480 with 1 Axes>"
      ]
     },
     "metadata": {},
     "output_type": "display_data"
    }
   ],
   "source": [
    "# Answer\n",
    "tips.pivot_table(index = 'size', \n",
    "                   columns = ['day', 'time'], \n",
    "                   values = 'total_bill', \n",
    "                   aggfunc = 'mean').plot(kind = 'bar')"
   ]
  },
  {
   "cell_type": "markdown",
   "metadata": {},
   "source": [
    "### Exercise 8: (5 points)\n",
    "<span  style=\"color:purple; font-size:16px\">Make a bar chart showing the tip percent by party size, and day. (Place day on the $x$-axis, average `tip_percent` on the $y$-axis, and the bars colored by party `size`. Use `pivot_table()` to reshape the data appropriately.)</span>"
   ]
  },
  {
   "cell_type": "code",
   "execution_count": 29,
   "metadata": {},
   "outputs": [
    {
     "data": {
      "text/plain": [
       "<AxesSubplot: xlabel='day'>"
      ]
     },
     "execution_count": 29,
     "metadata": {},
     "output_type": "execute_result"
    },
    {
     "data": {
      "image/png": "[encoded data removed]",
      "text/plain": [
       "<Figure size 640x480 with 1 Axes>"
      ]
     },
     "metadata": {},
     "output_type": "display_data"
    }
   ],
   "source": [
    "# Answer\n",
    "tips.pivot_table(index = 'day', \n",
    "                   columns = 'size', \n",
    "                   values = 'tip_percent', \n",
    "                   aggfunc = 'mean').plot(kind = 'bar')"
   ]
  },
  {
   "cell_type": "markdown",
   "metadata": {},
   "source": [
    "### Exercise 9: (10 points)\n",
    "<span  style=\"color:purple; font-size:16px\">Create the table from exercise 6 using `.groupby()` and `.unstack()` (Hint: You need to use `unstack()` twice to unstack each level of the index. Literally, your code will have `some_stuff.unstack().unstack()`)</span>"
   ]
  },
  {
   "cell_type": "code",
   "execution_count": 64,
   "metadata": {},
   "outputs": [
    {
     "data": {
      "text/html": [
       "<div>\n",
       "<style scoped>\n",
       "    .dataframe tbody tr th:only-of-type {\n",
       "        vertical-align: middle;\n",
       "    }\n",
       "\n",
       "    .dataframe tbody tr th {\n",
       "        vertical-align: top;\n",
       "    }\n",
       "\n",
       "    .dataframe thead tr th {\n",
       "        text-align: left;\n",
       "    }\n",
       "\n",
       "    .dataframe thead tr:last-of-type th {\n",
       "        text-align: right;\n",
       "    }\n",
       "</style>\n",
       "<table border=\"1\" class=\"dataframe\">\n",
       "  <thead>\n",
       "    <tr>\n",
       "      <th>size</th>\n",
       "      <th colspan=\"2\" halign=\"left\">1</th>\n",
       "      <th colspan=\"2\" halign=\"left\">2</th>\n",
       "      <th colspan=\"2\" halign=\"left\">3</th>\n",
       "      <th colspan=\"2\" halign=\"left\">4</th>\n",
       "      <th colspan=\"2\" halign=\"left\">5</th>\n",
       "      <th colspan=\"2\" halign=\"left\">6</th>\n",
       "    </tr>\n",
       "    <tr>\n",
       "      <th>time</th>\n",
       "      <th>Dinner</th>\n",
       "      <th>Lunch</th>\n",
       "      <th>Dinner</th>\n",
       "      <th>Lunch</th>\n",
       "      <th>Dinner</th>\n",
       "      <th>Lunch</th>\n",
       "      <th>Dinner</th>\n",
       "      <th>Lunch</th>\n",
       "      <th>Dinner</th>\n",
       "      <th>Lunch</th>\n",
       "      <th>Dinner</th>\n",
       "      <th>Lunch</th>\n",
       "    </tr>\n",
       "    <tr>\n",
       "      <th>day</th>\n",
       "      <th></th>\n",
       "      <th></th>\n",
       "      <th></th>\n",
       "      <th></th>\n",
       "      <th></th>\n",
       "      <th></th>\n",
       "      <th></th>\n",
       "      <th></th>\n",
       "      <th></th>\n",
       "      <th></th>\n",
       "      <th></th>\n",
       "      <th></th>\n",
       "    </tr>\n",
       "  </thead>\n",
       "  <tbody>\n",
       "    <tr>\n",
       "      <th>Fri</th>\n",
       "      <td>NaN</td>\n",
       "      <td>8.6</td>\n",
       "      <td>17.8</td>\n",
       "      <td>13.1</td>\n",
       "      <td>NaN</td>\n",
       "      <td>16.0</td>\n",
       "      <td>40.2</td>\n",
       "      <td>NaN</td>\n",
       "      <td>NaN</td>\n",
       "      <td>NaN</td>\n",
       "      <td>NaN</td>\n",
       "      <td>NaN</td>\n",
       "    </tr>\n",
       "    <tr>\n",
       "      <th>Sat</th>\n",
       "      <td>5.2</td>\n",
       "      <td>NaN</td>\n",
       "      <td>16.8</td>\n",
       "      <td>NaN</td>\n",
       "      <td>25.5</td>\n",
       "      <td>NaN</td>\n",
       "      <td>29.9</td>\n",
       "      <td>NaN</td>\n",
       "      <td>28.2</td>\n",
       "      <td>NaN</td>\n",
       "      <td>NaN</td>\n",
       "      <td>NaN</td>\n",
       "    </tr>\n",
       "    <tr>\n",
       "      <th>Sun</th>\n",
       "      <td>NaN</td>\n",
       "      <td>NaN</td>\n",
       "      <td>17.6</td>\n",
       "      <td>NaN</td>\n",
       "      <td>22.2</td>\n",
       "      <td>NaN</td>\n",
       "      <td>26.7</td>\n",
       "      <td>NaN</td>\n",
       "      <td>27.0</td>\n",
       "      <td>NaN</td>\n",
       "      <td>48.2</td>\n",
       "      <td>NaN</td>\n",
       "    </tr>\n",
       "    <tr>\n",
       "      <th>Thur</th>\n",
       "      <td>NaN</td>\n",
       "      <td>10.1</td>\n",
       "      <td>18.8</td>\n",
       "      <td>15.1</td>\n",
       "      <td>NaN</td>\n",
       "      <td>19.2</td>\n",
       "      <td>NaN</td>\n",
       "      <td>30.0</td>\n",
       "      <td>NaN</td>\n",
       "      <td>41.2</td>\n",
       "      <td>NaN</td>\n",
       "      <td>30.4</td>\n",
       "    </tr>\n",
       "  </tbody>\n",
       "</table>\n",
       "</div>"
      ],
      "text/plain": [
       "size      1            2            3            4            5            6  \\\n",
       "time Dinner Lunch Dinner Lunch Dinner Lunch Dinner Lunch Dinner Lunch Dinner   \n",
       "day                                                                            \n",
       "Fri     NaN   8.6   17.8  13.1    NaN  16.0   40.2   NaN    NaN   NaN    NaN   \n",
       "Sat     5.2   NaN   16.8   NaN   25.5   NaN   29.9   NaN   28.2   NaN    NaN   \n",
       "Sun     NaN   NaN   17.6   NaN   22.2   NaN   26.7   NaN   27.0   NaN   48.2   \n",
       "Thur    NaN  10.1   18.8  15.1    NaN  19.2    NaN  30.0    NaN  41.2    NaN   \n",
       "\n",
       "size        \n",
       "time Lunch  \n",
       "day         \n",
       "Fri    NaN  \n",
       "Sat    NaN  \n",
       "Sun    NaN  \n",
       "Thur  30.4  "
      ]
     },
     "execution_count": 64,
     "metadata": {},
     "output_type": "execute_result"
    }
   ],
   "source": [
    "# Answer\n",
    "tips.groupby(['day','time','size'])['total_bill'].mean().round(1).unstack().unstack()\n"
   ]
  },
  {
   "cell_type": "markdown",
   "metadata": {},
   "source": [
    "### Exercise 10: (5 points)\n",
    "<span  style=\"color:purple; font-size:16px\">Calculate the joint probability distribution between day of the week and party size using the `pd.crosstab()` function and appropriate arguments.</span>\n"
   ]
  },
  {
   "cell_type": "code",
   "execution_count": 77,
   "metadata": {},
   "outputs": [
    {
     "data": {
      "text/html": [
       "<div>\n",
       "<style scoped>\n",
       "    .dataframe tbody tr th:only-of-type {\n",
       "        vertical-align: middle;\n",
       "    }\n",
       "\n",
       "    .dataframe tbody tr th {\n",
       "        vertical-align: top;\n",
       "    }\n",
       "\n",
       "    .dataframe thead th {\n",
       "        text-align: right;\n",
       "    }\n",
       "</style>\n",
       "<table border=\"1\" class=\"dataframe\">\n",
       "  <thead>\n",
       "    <tr style=\"text-align: right;\">\n",
       "      <th>size</th>\n",
       "      <th>1</th>\n",
       "      <th>2</th>\n",
       "      <th>3</th>\n",
       "      <th>4</th>\n",
       "      <th>5</th>\n",
       "      <th>6</th>\n",
       "    </tr>\n",
       "    <tr>\n",
       "      <th>day</th>\n",
       "      <th></th>\n",
       "      <th></th>\n",
       "      <th></th>\n",
       "      <th></th>\n",
       "      <th></th>\n",
       "      <th></th>\n",
       "    </tr>\n",
       "  </thead>\n",
       "  <tbody>\n",
       "    <tr>\n",
       "      <th>Fri</th>\n",
       "      <td>0.004098</td>\n",
       "      <td>0.065574</td>\n",
       "      <td>0.004098</td>\n",
       "      <td>0.004098</td>\n",
       "      <td>0.000000</td>\n",
       "      <td>0.000000</td>\n",
       "    </tr>\n",
       "    <tr>\n",
       "      <th>Sat</th>\n",
       "      <td>0.008197</td>\n",
       "      <td>0.217213</td>\n",
       "      <td>0.073770</td>\n",
       "      <td>0.053279</td>\n",
       "      <td>0.004098</td>\n",
       "      <td>0.000000</td>\n",
       "    </tr>\n",
       "    <tr>\n",
       "      <th>Sun</th>\n",
       "      <td>0.000000</td>\n",
       "      <td>0.159836</td>\n",
       "      <td>0.061475</td>\n",
       "      <td>0.073770</td>\n",
       "      <td>0.012295</td>\n",
       "      <td>0.004098</td>\n",
       "    </tr>\n",
       "    <tr>\n",
       "      <th>Thur</th>\n",
       "      <td>0.004098</td>\n",
       "      <td>0.196721</td>\n",
       "      <td>0.016393</td>\n",
       "      <td>0.020492</td>\n",
       "      <td>0.004098</td>\n",
       "      <td>0.012295</td>\n",
       "    </tr>\n",
       "  </tbody>\n",
       "</table>\n",
       "</div>"
      ],
      "text/plain": [
       "size         1         2         3         4         5         6\n",
       "day                                                             \n",
       "Fri   0.004098  0.065574  0.004098  0.004098  0.000000  0.000000\n",
       "Sat   0.008197  0.217213  0.073770  0.053279  0.004098  0.000000\n",
       "Sun   0.000000  0.159836  0.061475  0.073770  0.012295  0.004098\n",
       "Thur  0.004098  0.196721  0.016393  0.020492  0.004098  0.012295"
      ]
     },
     "execution_count": 77,
     "metadata": {},
     "output_type": "execute_result"
    }
   ],
   "source": [
    "# Answer\n",
    "joint = pd.crosstab(index = tips['day'],\n",
    "                        columns = tips['size'],\n",
    "                        normalize = True)\n",
    "joint"
   ]
  },
  {
   "cell_type": "markdown",
   "metadata": {},
   "source": [
    "### Exercise 11: (10 points)\n",
    "<span  style=\"color:purple; font-size:16px\">Make a visualization that displays the conditional distribution of party size, given the day of the week.</span>\n",
    "\n",
    "(Hint: use `crosstab()` to reshape the data appropriately with the days of the week as the index and the party size as the column. To obtain the *conditional* distributions, use the `normalize = 'index'` argument to normalize the distribution row-wise before passing the resulting data matrix to the `plot()` method.)"
   ]
  },
  {
   "cell_type": "code",
   "execution_count": 84,
   "metadata": {},
   "outputs": [
    {
     "data": {
      "text/plain": [
       "<AxesSubplot: xlabel='day'>"
      ]
     },
     "execution_count": 84,
     "metadata": {},
     "output_type": "execute_result"
    },
    {
     "data": {
      "image/png": "[encoded data removed]",
      "text/plain": [
       "<Figure size 640x480 with 1 Axes>"
      ]
     },
     "metadata": {},
     "output_type": "display_data"
    }
   ],
   "source": [
    "# Answer\n",
    "pd.crosstab(index = tips['day'],\n",
    "                        columns = tips['size'],\n",
    "                        normalize = 'index',\n",
    "                        margins = False).plot(kind = 'bar', stacked = True)"
   ]
  },
  {
   "cell_type": "markdown",
   "metadata": {},
   "source": [
    "### Exercise 12: (5 points)\n",
    "<span  style=\"color:purple; font-size:16px\">What proportion of parties had two people **GIVEN** the day of week was a Saturday? What type of distribution do you need to calculate to answer this question? Use `crosstab()` and extract the required value.</span>\n"
   ]
  },
  {
   "cell_type": "code",
   "execution_count": 78,
   "metadata": {},
   "outputs": [
    {
     "data": {
      "text/plain": [
       "0.609"
      ]
     },
     "execution_count": 78,
     "metadata": {},
     "output_type": "execute_result"
    }
   ],
   "source": [
    "# Answer\n",
    "# The proportion of parties that had two people GIVEN the day of the week was a Saturday \n",
    "# was .609\n",
    "# You need to calculate the conditional distribution to answer the question.\n",
    "\n",
    "pd.crosstab(index = tips['day'],\n",
    "                        columns = tips['size'],\n",
    "                        normalize = 'index',\n",
    "                        margins = False).loc['Sat',2].round(3)"
   ]
  },
  {
   "cell_type": "markdown",
   "metadata": {},
   "source": [
    "### Exercise 13: (5 points)\n",
    "<span  style=\"color:purple; font-size:16px\">What proportion of tables were served on Saturday **GIVEN** the party contained exactly two people? What type of distribution do you need to calculate to answer this question? Use `crosstab()` and extract the required value.</span>\n"
   ]
  },
  {
   "cell_type": "code",
   "execution_count": 82,
   "metadata": {},
   "outputs": [
    {
     "data": {
      "text/plain": [
       "0.34"
      ]
     },
     "execution_count": 82,
     "metadata": {},
     "output_type": "execute_result"
    }
   ],
   "source": [
    "# Answer\n",
    "# The proportion of tables served on Saturday GIVEN the party contained exactly two \n",
    "# people was .34\n",
    "# You need to calculate the conditional distribution to answer the question.\n",
    "pd.crosstab(index = tips['size'],\n",
    "                        columns = tips['day'],\n",
    "                        normalize = 'index',\n",
    "                        margins = False).loc[2,'Sat'].round(3)"
   ]
  },
  {
   "cell_type": "markdown",
   "metadata": {},
   "source": [
    "### Exercise 14: (10 points)\n",
    "<span  style=\"color:purple; font-size:16px\">What proportion of tables were served by the waiter on Saturday? What distribution is required to answer this question? Use `crosstab()` and extract the required value.</span>\n"
   ]
  },
  {
   "cell_type": "code",
   "execution_count": 91,
   "metadata": {},
   "outputs": [
    {
     "data": {
      "text/plain": [
       "0.357"
      ]
     },
     "execution_count": 91,
     "metadata": {},
     "output_type": "execute_result"
    }
   ],
   "source": [
    "# Answer\n",
    "# The proportion of tables served by the waiter on Saturday was .357\n",
    "# The distribution required to answer this question is the marginal distribution.\n",
    "marg_dist = pd.crosstab(index = tips['day'],\n",
    "                        columns = tips['size'],\n",
    "                        normalize = True).sum(axis = 1)\n",
    "marg_dist['Sat'].round(3)"
   ]
  },
  {
   "cell_type": "markdown",
   "metadata": {},
   "source": [
    "### Exercise 15: (10 points)\n",
    "<span  style=\"color:purple; font-size:16px\">What proportion of tables were served by the waiter on Saturday **AND** had a party size of 5? What distribution is required to answer this question? Use `crosstab()` and extract the required value.</span>\n"
   ]
  },
  {
   "cell_type": "code",
   "execution_count": 92,
   "metadata": {},
   "outputs": [
    {
     "data": {
      "text/plain": [
       "0.004"
      ]
     },
     "execution_count": 92,
     "metadata": {},
     "output_type": "execute_result"
    }
   ],
   "source": [
    "# Answer\n",
    "# The proportion of tables that were served by the waiter on Saturday and had a party \n",
    "# size of 5 was .004\n",
    "# The distribution required to answer this question is the joint distribution. \n",
    "pd.crosstab(index = tips['day'],\n",
    "                        columns = tips['size'],\n",
    "                        normalize = True).loc['Sat', 5].round(3)"
   ]
  }
 ],
 "metadata": {
  "kernelspec": {
   "display_name": "Python 3 (ipykernel)",
   "language": "python",
   "name": "python3"
  },
  "language_info": {
   "codemirror_mode": {
    "name": "ipython",
    "version": 3
   },
   "file_extension": ".py",
   "mimetype": "text/x-python",
   "name": "python",
   "nbconvert_exporter": "python",
   "pygments_lexer": "ipython3",
   "version": "3.10.8"
  },
  "toc": {
   "base_numbering": 1,
   "nav_menu": {},
   "number_sections": false,
   "sideBar": false,
   "skip_h1_title": false,
   "title_cell": "Table of Contents",
   "title_sidebar": "Contents",
   "toc_cell": false,
   "toc_position": {},
   "toc_section_display": false,
   "toc_window_display": false
  }
 },
 "nbformat": 4,
 "nbformat_minor": 2
}
